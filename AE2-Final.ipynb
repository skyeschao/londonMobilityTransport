{
 "cells": [
  {
   "cell_type": "markdown",
   "id": "5d75be19",
   "metadata": {},
   "source": [
    "# **Abstract**"
   ]
  },
  {
   "cell_type": "markdown",
   "id": "935e5bf3",
   "metadata": {},
   "source": [
    "In this paper, I conducted a comprehensive analysis of datasets in CSV format, focusing on mobility-based transportation methods in Central London and exploring its relationships with other societal factors over the year of 2022. Through the use of statistical methods and programming, I was able to unravel the hidden patterns and trends within this data, giving keen insight on what goes on in the streets of London during the day. I scraped all these datasets into panda data structures, and then conducted inspections and cleaning operations so that information could be processed for analysis. By generating visual representations of different correlations within the data, I was able to reveal relationships between variables that could not have been identified otherwise. I was able to find influential factors on transportation demand, and overall, just understand how transportation shapes the London community."
   ]
  },
  {
   "cell_type": "markdown",
   "id": "c9503fc4",
   "metadata": {},
   "source": [
    "# **Keywords**"
   ]
  },
  {
   "cell_type": "markdown",
   "id": "266c7086",
   "metadata": {},
   "source": [
    "- Data Cleaning and Preparation\n",
    "- Visual Data Analysis\n",
    "- Geospacial Mapping\n",
    "- Modes of Mobility-Based Transportation\n",
    "- Central London\n"
   ]
  },
  {
   "cell_type": "markdown",
   "id": "4a50e2f9",
   "metadata": {},
   "source": [
    "# **Introduction**"
   ]
  },
  {
   "cell_type": "markdown",
   "id": "dbd328e0",
   "metadata": {},
   "source": [
    "London is widely known for its multitude of transportation options, defining its distinctive ambience and atmosphere. One extremely popular choice is active transport, which is both sustainable for the environment and enjoyable when cruising down the city streets. This report delves into the patterns of these transportation methods used in Central London, utilizing the 2022 datasets focusing on bicycle hires and other types of small scale mobility options. Through data analysis, my objective is to uncover trends between the frequencies of mobility-based transportation and various other factors including time of day, specific areas within Central London, and the weather."
   ]
  },
  {
   "cell_type": "markdown",
   "id": "b6f610d9",
   "metadata": {},
   "source": [
    "# **Methods**"
   ]
  },
  {
   "cell_type": "markdown",
   "id": "cb422326",
   "metadata": {},
   "source": [
    "## Data Description"
   ]
  },
  {
   "cell_type": "markdown",
   "id": "0ba115ad",
   "metadata": {},
   "source": [
    "In this deep dive, I used four sets of data: \"2022-Central.csv\", \"0-Count locations.csv\", \"2022 Q1 (January-March).csv\", \"2022-1-spring.csv\", and \"2022-2-autumn.csv\".\n",
    "\n",
    "The 2022 Central dataset recorded the frequencies of different modes of transportation throughout the day, along with several other categories of important information. For each record, there were both categorical and numerical variables.\n",
    "Categorical Variables:\n",
    "- Weather: 'Wet' or 'Dry'\n",
    "- Path: 5 paths, each with 4 cardinal directions (total = 20)\n",
    "- Mode: 6 modes of transportation\n",
    "Numerical Variables\n",
    "- UnqID: 208 unique identifiers\n",
    "- Date: 31 unique dates ranging over 3 months (May, June, and July)\n",
    "- Time: 64 intervals of 15 minutes from 6:00 to 21:45\n",
    "- Count: frequency\n",
    "\n",
    "The 0-Count Locations dataset held information about specific locations within London. \n",
    "Categorical Variables:\n",
    "- Location description: describes physical location\n",
    "- Borough: Borough name\n",
    "- Functional area for monitoring: 3 areas (Central, Inner, or Outer London)\n",
    "Numerical Variables:\n",
    "- UnqID: unique ID representing locations (matches first dataset)\n",
    "- Latitude\n",
    "- Longitude\n",
    "\n",
    "The Quarter 1 (January to March), Spring, and Autumn datasets gave information for the remaining months of the year that the 2022 Central dataset was missing.\n",
    "Categorical Variables:\n",
    "- Weather: 'Wet' or 'Dry'\n",
    "Numerical Variables:\n",
    "- Date: Remaining months of 2022\n",
    "- Count: frequency"
   ]
  },
  {
   "cell_type": "markdown",
   "id": "a153412d",
   "metadata": {},
   "source": [
    "## Methodology"
   ]
  },
  {
   "cell_type": "markdown",
   "id": "0f498b4d",
   "metadata": {},
   "source": [
    "I conducted my data analysis following three general steps: inspecting the data, preparing it for visualization, and then visualize it. Visualization mostly entaied the use of the Plotly Express library, but for the data inspection and preparation processes, I have listed the methods that were most useful to me.\n",
    "1. Inspection<br>\n",
    "- pandas.DataFame.head()\n",
    "- pandas.DataFrame.dtypes\n",
    "2. Preparation\n",
    "- pandas.DataFrame.groupby()\n"
   ]
  },
  {
   "cell_type": "markdown",
   "id": "87a4cf17",
   "metadata": {},
   "source": [
    "## Tools Used"
   ]
  },
  {
   "cell_type": "markdown",
   "id": "db2e668e",
   "metadata": {},
   "source": [
    "The language I coded in is python, and most of my program's functionality came from imported libraries.\n",
    "1. **Pandas** <br>\n",
    "Pandas, undoubtedly, played the largest role in my data analysis process, serving as the backbone for handling and managing the contents of the datasets. The library provided me with a powerful set of tools that assisted me in cleaning and transforming the data into a material that could be programmed into visual representations. Its ability to work with large datasets quickly made it very straightforward when deriving insights and trying to understand patterns and trends.\n",
    "2. **Plotly Express (and subplots)** <br>\n",
    "With the Pandas library handling the job of preparing the data for visualization, the actual plotting comes in using the Plotly Express library. It played a huge role in the visualization aspect by giving me the tools I needed to create a streamlined and easy-to-read graph. Plotly Express's versatility was clearly demonstrated by its ability to plot complex charts and its wide variety of graph options. Overall, it was able to successfully faciliate my goal to create plots that can communicate findings and patterns in data."
   ]
  },
  {
   "cell_type": "markdown",
   "id": "7637b78c",
   "metadata": {},
   "source": [
    "# **Dataset Exploration and Cleaning**"
   ]
  },
  {
   "cell_type": "markdown",
   "id": "26b31810",
   "metadata": {},
   "source": [
    "## 2022 Central Data"
   ]
  },
  {
   "cell_type": "code",
   "execution_count": 1,
   "id": "c0baa8fc",
   "metadata": {
    "ExecuteTime": {
     "end_time": "2023-12-01T11:29:38.089247Z",
     "start_time": "2023-12-01T11:29:13.385158Z"
    },
    "scrolled": true
   },
   "outputs": [
    {
     "name": "stdout",
     "output_type": "stream",
     "text": [
      "   Year     UnqID        Date Weather      Time      Day Round         Dir  \\\n",
      "0  2022  CENCY001  13/07/2022     Dry  06:00:00  Weekday     A  Northbound   \n",
      "1  2022  CENCY001  13/07/2022     Dry  06:15:00  Weekday     A  Northbound   \n",
      "2  2022  CENCY001  13/07/2022     Dry  06:30:00  Weekday     A  Northbound   \n",
      "3  2022  CENCY001  13/07/2022     Dry  06:45:00  Weekday     A  Northbound   \n",
      "4  2022  CENCY001  13/07/2022     Dry  07:00:00  Weekday     A  Northbound   \n",
      "\n",
      "          Path         Mode  Count  \n",
      "0  Carriageway  Cargo bikes      0  \n",
      "1  Carriageway  Cargo bikes      0  \n",
      "2  Carriageway  Cargo bikes      0  \n",
      "3  Carriageway  Cargo bikes      0  \n",
      "4  Carriageway  Cargo bikes      0  \n",
      "        Year     UnqID        Date Weather      Time      Day Round  \\\n",
      "370683  2022  CENCY702  14/06/2022     Dry  20:45:00  Weekday     A   \n",
      "370684  2022  CENCY702  14/06/2022     Dry  21:00:00  Weekday     A   \n",
      "370685  2022  CENCY702  14/06/2022     Dry  21:15:00  Weekday     A   \n",
      "370686  2022  CENCY702  14/06/2022     Dry  21:30:00  Weekday     A   \n",
      "370687  2022  CENCY702  14/06/2022     Dry  21:45:00  Weekday     A   \n",
      "\n",
      "               Dir                   Path         Mode  Count  \n",
      "370683  Southbound  Pavement - Southbound  Pedestrians     87  \n",
      "370684  Southbound  Pavement - Southbound  Pedestrians     81  \n",
      "370685  Southbound  Pavement - Southbound  Pedestrians     76  \n",
      "370686  Southbound  Pavement - Southbound  Pedestrians     63  \n",
      "370687  Southbound  Pavement - Southbound  Pedestrians     76  \n",
      "Year        int64\n",
      "UnqID      object\n",
      "Date       object\n",
      "Weather    object\n",
      "Time       object\n",
      "Day        object\n",
      "Round      object\n",
      "Dir        object\n",
      "Path       object\n",
      "Mode       object\n",
      "Count       int64\n",
      "dtype: object\n",
      "           Year          Count\n",
      "count  370688.0  370688.000000\n",
      "mean     2022.0       8.910607\n",
      "std         0.0      34.284010\n",
      "min      2022.0       0.000000\n",
      "25%      2022.0       0.000000\n",
      "50%      2022.0       0.000000\n",
      "75%      2022.0       1.000000\n",
      "max      2022.0    1709.000000\n",
      "0\n",
      "Year       0\n",
      "UnqID      0\n",
      "Date       0\n",
      "Weather    0\n",
      "Time       0\n",
      "Day        0\n",
      "Round      0\n",
      "Dir        0\n",
      "Path       0\n",
      "Mode       0\n",
      "Count      0\n",
      "dtype: int64\n",
      "UnqID              object\n",
      "Date       datetime64[ns]\n",
      "Weather            object\n",
      "Time               object\n",
      "Dir                object\n",
      "Path               object\n",
      "Mode               object\n",
      "Count               int64\n",
      "dtype: object\n",
      "      UnqID       Date Weather      Time                      Path  \\\n",
      "0  CENCY001 2022-07-13     Dry  06:00:00  Carriageway - Northbound   \n",
      "1  CENCY001 2022-07-13     Dry  06:15:00  Carriageway - Northbound   \n",
      "2  CENCY001 2022-07-13     Dry  06:30:00  Carriageway - Northbound   \n",
      "3  CENCY001 2022-07-13     Dry  06:45:00  Carriageway - Northbound   \n",
      "4  CENCY001 2022-07-13     Dry  07:00:00  Carriageway - Northbound   \n",
      "\n",
      "          Mode  Count  \n",
      "0  Cargo bikes      0  \n",
      "1  Cargo bikes      0  \n",
      "2  Cargo bikes      0  \n",
      "3  Cargo bikes      0  \n",
      "4  Cargo bikes      0  \n"
     ]
    }
   ],
   "source": [
    "import pandas as pd\n",
    "import plotly.express as px\n",
    "from plotly.subplots import make_subplots\n",
    "\n",
    "# SCRAPE DATA\n",
    "df = pd.read_csv('2022-Central.csv')\n",
    "\n",
    "# INSPECT DATA\n",
    "print(df.head())\n",
    "print(df.tail())\n",
    "print(df.dtypes)\n",
    "print(df.describe())\n",
    "\n",
    "# CLEAN DATA\n",
    "# remove duplicates\n",
    "print(df.duplicated().sum())\n",
    "df = df.drop_duplicates()\n",
    "# check for null values\n",
    "null = df.isnull().sum()\n",
    "print(null)\n",
    "# df.dropna()\n",
    "# remove irrelevant data\n",
    "df = df.drop(columns = ['Year', 'Day', 'Round'])\n",
    "# convert data types\n",
    "df['Date'] = pd.to_datetime(df['Date'], dayfirst=True)\n",
    "df['Time'] = pd.to_datetime(df['Time'], format='%H:%M:%S').dt.time\n",
    "df['Weather'] = df['Weather'].astype(str)\n",
    "df['Dir'] = df['Dir'].astype(str)\n",
    "df['Path'] = df['Path'].astype(str)\n",
    "df['Mode'] = df['Mode'].astype(str)\n",
    "df['UnqID'] = df['UnqID'].astype(str)\n",
    "df['Count'] = df['Count'].astype(int)\n",
    "print(df.dtypes)\n",
    "# capitalize all text fields\n",
    "df.applymap(lambda x: x.capitalize() if isinstance(x, str) else x)\n",
    "# combining direction and path bc only two categories not combined\n",
    "for i in range(len(df['Path'])):\n",
    "    if df.loc[i, 'Path'] == 'Carriageway':\n",
    "        df.loc[i, 'Path'] = f\"Carriageway - {df.loc[i, 'Dir']}\"\n",
    "    if df.loc[i, 'Path'] == 'Shared path':\n",
    "        df.loc[i, 'Path'] = f\"Shared path - {df.loc[i, 'Dir']}\"\n",
    "df = df.drop(columns = ['Dir'])\n",
    "print(df.head())"
   ]
  },
  {
   "cell_type": "markdown",
   "id": "a2bd95b3",
   "metadata": {},
   "source": [
    "## Location Data"
   ]
  },
  {
   "cell_type": "code",
   "execution_count": 2,
   "id": "d4320a7d",
   "metadata": {
    "ExecuteTime": {
     "end_time": "2023-12-01T11:29:57.354698Z",
     "start_time": "2023-12-01T11:29:56.806558Z"
    }
   },
   "outputs": [
    {
     "name": "stdout",
     "output_type": "stream",
     "text": [
      "    Site ID     Which folder?         Shared sites  \\\n",
      "0  CENCY001  Strategic counts             CSHCY084   \n",
      "1  CENCY002  Strategic counts                    0   \n",
      "2  CENCY003  Strategic counts             CSHCY077   \n",
      "3  CENCY004  Strategic counts  CSHCY075 & QWPCY047   \n",
      "4  CENCY005  Strategic counts             CSHCY045   \n",
      "\n",
      "                 Location description         Borough  \\\n",
      "0  Millbank (south of Thorney Street)     Westminster   \n",
      "1                         Bishopsgate  City of London   \n",
      "2                    Southwark Bridge       Southwark   \n",
      "3               Southwark Bridge Road       Southwark   \n",
      "4                       Tooley Street       Southwark   \n",
      "\n",
      "  Functional area for monitoring Road type  Is it on the strategic CIO panel?  \\\n",
      "0                        Central    A Road                                  1   \n",
      "1                        Central    A Road                                  1   \n",
      "2                        Central    A Road                                  1   \n",
      "3                        Central    A Road                                  1   \n",
      "4                        Central    A Road                                  1   \n",
      "\n",
      "   Easting (UK Grid)  Northing (UK Grid)   Latitude  Longitude  \n",
      "0          530251.49           178742.45  51.492628  -0.125204  \n",
      "1          533362.68           181824.45  51.519599  -0.079254  \n",
      "2          532334.06           180520.37  51.508123  -0.094551  \n",
      "3          532052.50           179677.64  51.500613  -0.098927  \n",
      "4          533031.59           180213.46  51.505200  -0.084629  \n",
      "     Site ID Which folder? Shared sites  \\\n",
      "2292    SW04             0            0   \n",
      "2293    SW05             0            0   \n",
      "2294    SW06             0            0   \n",
      "2295    SW07             0            0   \n",
      "2296    SW08             0            0   \n",
      "\n",
      "                                   Location description      Borough  \\\n",
      "2292                     Wilton Road jw Victoria Street  Westminster   \n",
      "2293                Battersea Park (outside Tops Pizza)   Wandsworth   \n",
      "2294  Stoke Newington High Street (south of Brooke R...      Hackney   \n",
      "2295  Borough High Street (between King's Head Yard ...    Southwark   \n",
      "2296  Camden High Street (north of Pratt Street, opp...       Camden   \n",
      "\n",
      "     Functional area for monitoring Road type  \\\n",
      "2292                          Inner         0   \n",
      "2293                          Inner         0   \n",
      "2294                          Inner         0   \n",
      "2295                        Central         0   \n",
      "2296                          Inner         0   \n",
      "\n",
      "      Is it on the strategic CIO panel?  Easting (UK Grid)  \\\n",
      "2292                                  0           529006.0   \n",
      "2293                                  0           528802.0   \n",
      "2294                                  0           533604.0   \n",
      "2295                                  0           532687.0   \n",
      "2296                                  0           529003.0   \n",
      "\n",
      "      Northing (UK Grid)   Latitude  Longitude  \n",
      "2292            179138.0  51.496472  -0.142982  \n",
      "2293            176969.0  51.477026  -0.146710  \n",
      "2294            186389.0  51.560565  -0.074037  \n",
      "2295            180187.0  51.505047  -0.089592  \n",
      "2296            183677.0  51.537263  -0.141366  \n",
      "Site ID                               object\n",
      "Which folder?                         object\n",
      "Shared sites                          object\n",
      "Location description                  object\n",
      "Borough                               object\n",
      "Functional area for monitoring        object\n",
      "Road type                             object\n",
      "Is it on the strategic CIO panel?      int64\n",
      "Easting (UK Grid)                    float64\n",
      "Northing (UK Grid)                   float64\n",
      "Latitude                             float64\n",
      "Longitude                            float64\n",
      "dtype: object\n",
      "       Is it on the strategic CIO panel?  Easting (UK Grid)  \\\n",
      "count                        2297.000000        2297.000000   \n",
      "mean                            0.631694      530437.656221   \n",
      "std                             0.482450        7805.778214   \n",
      "min                             0.000000      504212.287200   \n",
      "25%                             0.000000      526365.000000   \n",
      "50%                             1.000000      530991.240000   \n",
      "75%                             1.000000      534931.406100   \n",
      "max                             1.000000      558325.076700   \n",
      "\n",
      "       Northing (UK Grid)     Latitude    Longitude  \n",
      "count         2297.000000  2297.000000  2297.000000  \n",
      "mean        180333.653911    51.506830    -0.121910  \n",
      "std           6649.984168     0.059470     0.112869  \n",
      "min         158176.501700    51.307626    -0.496267  \n",
      "25%         176569.296800    51.472806    -0.181629  \n",
      "50%         180652.278100    51.509880    -0.114414  \n",
      "75%         183780.060000    51.537435    -0.056252  \n",
      "max         199733.000000    51.679898     0.281724  \n",
      "0\n",
      "Site ID                              0\n",
      "Which folder?                        0\n",
      "Shared sites                         0\n",
      "Location description                 0\n",
      "Borough                              0\n",
      "Functional area for monitoring       0\n",
      "Road type                            0\n",
      "Is it on the strategic CIO panel?    0\n",
      "Easting (UK Grid)                    0\n",
      "Northing (UK Grid)                   0\n",
      "Latitude                             0\n",
      "Longitude                            0\n",
      "dtype: int64\n",
      "      UnqID                Location description         Borough  \\\n",
      "0  CENCY001  Millbank (south of Thorney Street)     Westminster   \n",
      "1  CENCY002                         Bishopsgate  City of London   \n",
      "2  CENCY003                    Southwark Bridge       Southwark   \n",
      "3  CENCY004               Southwark Bridge Road       Southwark   \n",
      "4  CENCY005                       Tooley Street       Southwark   \n",
      "\n",
      "  Functional area for monitoring   Latitude  Longitude  \n",
      "0                        Central  51.492628  -0.125204  \n",
      "1                        Central  51.519599  -0.079254  \n",
      "2                        Central  51.508123  -0.094551  \n",
      "3                        Central  51.500613  -0.098927  \n",
      "4                        Central  51.505200  -0.084629  \n"
     ]
    }
   ],
   "source": [
    "# SCRAPE DATA\n",
    "location = pd.read_csv('0-Count locations.csv')\n",
    "\n",
    "# INSPECT DATA\n",
    "print(location.head())\n",
    "print(location.tail())\n",
    "print(location.dtypes)\n",
    "print(location.describe())\n",
    "\n",
    "# CLEAN DATA\n",
    "# remove duplicates\n",
    "print(location.duplicated().sum())\n",
    "location = location.drop_duplicates()\n",
    "# check for null values\n",
    "null = location.isnull().sum()\n",
    "print(null)\n",
    "# remove unecessary columns\n",
    "location = location.drop(columns = ['Which folder?', 'Is it on the strategic CIO panel?', 'Shared sites',\n",
    "                                    'Road type','Northing (UK Grid)','Easting (UK Grid)'])\n",
    "# rename columns\n",
    "location.rename(columns = {'Site ID':'UnqID'}, inplace = True)\n",
    "# convert datatypes\n",
    "location['UnqID'] = location['UnqID'].astype(str)\n",
    "location['Location description'] = location['Location description'].astype(str)\n",
    "location['Borough'] = location['Borough'].astype(str)\n",
    "location['Functional area for monitoring'] = location['Functional area for monitoring'].astype(str)\n",
    "location['Latitude'] = location['Latitude'].astype(float)\n",
    "location['Longitude'] = location['Longitude'].astype(float)\n",
    "# capitalize all text fields\n",
    "location.applymap(lambda x: x.capitalize() if isinstance(x, str) else x)\n",
    "print(location.head())"
   ]
  },
  {
   "cell_type": "markdown",
   "id": "6a567f13",
   "metadata": {},
   "source": [
    "## Seasons Data"
   ]
  },
  {
   "cell_type": "code",
   "execution_count": 3,
   "id": "5b555b6a",
   "metadata": {
    "ExecuteTime": {
     "end_time": "2023-12-01T11:30:28.005034Z",
     "start_time": "2023-12-01T11:30:26.573369Z"
    }
   },
   "outputs": [
    {
     "name": "stdout",
     "output_type": "stream",
     "text": [
      "         Date  Count Weather\n",
      "0  30/06/2022     11     NaN\n",
      "1  30/06/2022     14     NaN\n",
      "2  30/06/2022     28     NaN\n",
      "3  30/06/2022     28     NaN\n",
      "4  30/06/2022     47     NaN\n",
      "Date       object\n",
      "Count       int64\n",
      "Weather    object\n",
      "dtype: object\n",
      "         Date  Count Weather\n",
      "0  13/10/2022      5     NaN\n",
      "1  13/10/2022      5     NaN\n",
      "2  13/10/2022      4     NaN\n",
      "3  13/10/2022      5     NaN\n",
      "4  13/10/2022      9     NaN\n",
      "Date       object\n",
      "Count       int64\n",
      "Weather    object\n",
      "dtype: object\n",
      "         Date  Count Weather\n",
      "0  07/03/2022     12     Dry\n",
      "1  07/03/2022     43     Dry\n",
      "2  07/03/2022     64     Dry\n",
      "3  07/03/2022     77     Dry\n",
      "4  07/03/2022    116     Dry\n",
      "Date       object\n",
      "Count       int64\n",
      "Weather    object\n",
      "dtype: object\n",
      "        Date  Count Weather\n",
      "0 2022-06-21      3     Dry\n",
      "1 2022-06-21      1     Dry\n",
      "3 2022-06-21      4     Dry\n",
      "4 2022-06-21      2     Dry\n",
      "7 2022-06-21      5     Dry\n",
      "Date       0\n",
      "Count      0\n",
      "Weather    0\n",
      "dtype: int64\n"
     ]
    }
   ],
   "source": [
    "# SCRAPE and INSPECT\n",
    "spring = pd.read_csv('2022-1-spring.csv')[['Date','Count','Weather']]\n",
    "print(spring.head())\n",
    "print(spring.dtypes)\n",
    "\n",
    "autumn = pd.read_csv('2022-2-autumn.csv')[['Date','Count','Weather']]\n",
    "print(autumn.head())\n",
    "print(autumn.dtypes)\n",
    "\n",
    "q1 = pd.read_csv('2022 Q1 (January-March).csv')[['Date','Count','Weather']]\n",
    "print(q1.head())\n",
    "print(autumn.dtypes)\n",
    "\n",
    "\n",
    "# CLEANING\n",
    "# remove null values\n",
    "spring = spring.dropna()\n",
    "autumn = autumn.dropna()\n",
    "q1 = q1.dropna()\n",
    "\n",
    "# capitalization\n",
    "spring['Weather'] = spring['Weather'].str.capitalize()\n",
    "autumn['Weather'] = autumn['Weather'].str.capitalize()\n",
    "q1['Weather'] = q1['Weather'].str.capitalize()\n",
    "\n",
    "# ensure data types\n",
    "spring['Date'] = pd.to_datetime(spring['Date'], dayfirst=True)\n",
    "autumn['Date'] = pd.to_datetime(autumn['Date'], dayfirst=True)\n",
    "q1['Date'] = pd.to_datetime(q1['Date'], dayfirst=True)\n",
    "\n",
    "\n",
    "# PROCESSING\n",
    "# combine into one dataset\n",
    "seasons = pd.concat([spring, autumn, q1], ignore_index=True)\n",
    "# make sure only year 2022 data\n",
    "seasons = seasons[seasons['Date'].dt.year == 2022]\n",
    "\n",
    "# drop duplicates\n",
    "seasons = seasons.drop_duplicates()\n",
    "print(seasons.head())\n",
    "print(seasons.isnull().sum())\n"
   ]
  },
  {
   "cell_type": "markdown",
   "id": "443057d8",
   "metadata": {},
   "source": [
    "# **Results**"
   ]
  },
  {
   "cell_type": "markdown",
   "id": "b1e55bd4",
   "metadata": {},
   "source": [
    "## Daily Commute Patterns "
   ]
  },
  {
   "cell_type": "code",
   "execution_count": 4,
   "id": "c72cf450",
   "metadata": {},
   "outputs": [
    {
     "data": {
      "application/vnd.plotly.v1+json": {
       "config": {
        "plotlyServerURL": "https://plot.ly"
       },
       "data": [
        {
         "branchvalues": "total",
         "customdata": [
          [
           1.080110497237569
          ],
          [
           1.6030732044198894
          ],
          [
           2.478763812154696
          ],
          [
           3.3002417127071824
          ],
          [
           4.079765193370166
          ],
          [
           5.283667127071824
          ],
          [
           6.925414364640884
          ],
          [
           8.59064226519337
          ],
          [
           9.992058011049723
          ],
          [
           12.561291436464089
          ],
          [
           14.567852209944752
          ],
          [
           15.221512430939226
          ],
          [
           12.136567679558011
          ],
          [
           9.859633977900552
          ],
          [
           8.220476519337016
          ],
          [
           7.434564917127072
          ],
          [
           6.269854972375691
          ],
          [
           6.062672651933702
          ],
          [
           6.13017955801105
          ],
          [
           6.325794198895028
          ],
          [
           6.036947513812155
          ],
          [
           6.2408494475138125
          ],
          [
           6.7394682320441985
          ],
          [
           7.40521408839779
          ],
          [
           8.744475138121548
          ],
          [
           9.835635359116022
          ],
          [
           10.775207182320441
          ],
          [
           11.046098066298342
          ],
          [
           11.689744475138122
          ],
          [
           11.379661602209945
          ],
          [
           10.741367403314918
          ],
          [
           10.17282458563536
          ],
          [
           8.98238950276243
          ],
          [
           8.250345303867404
          ],
          [
           8.143646408839778
          ],
          [
           8.216505524861878
          ],
          [
           8.1041091160221
          ],
          [
           8.256560773480663
          ],
          [
           8.647790055248619
          ],
          [
           8.697686464088397
          ],
          [
           9.509150552486188
          ],
          [
           9.775207182320441
          ],
          [
           10.275725138121548
          ],
          [
           11.041091160220995
          ],
          [
           13.058529005524862
          ],
          [
           14.516401933701658
          ],
          [
           15.925241712707182
          ],
          [
           16.460635359116022
          ],
          [
           16.46788674033149
          ],
          [
           15.649861878453038
          ],
          [
           14.23014502762431
          ],
          [
           12.848929558011049
          ],
          [
           11.46253453038674
          ],
          [
           9.897099447513812
          ],
          [
           8.608598066298342
          ],
          [
           7.64053867403315
          ],
          [
           7.267265193370166
          ],
          [
           6.723756906077348
          ],
          [
           6.134668508287293
          ],
          [
           5.705455801104972
          ],
          [
           5.475828729281768
          ],
          [
           5.39053867403315
          ],
          [
           5.036256906077348
          ],
          [
           4.946823204419889
          ]
         ],
         "domain": {
          "x": [
           0,
           1
          ],
          "y": [
           0,
           1
          ]
         },
         "hovertemplate": "labels=%{label}<br>count=%{value}<br>parent=%{parent}<br>id=%{id}<br>Count=%{color}<extra></extra>",
         "ids": [
          "06:00:00",
          "06:15:00",
          "06:30:00",
          "06:45:00",
          "07:00:00",
          "07:15:00",
          "07:30:00",
          "07:45:00",
          "08:00:00",
          "08:15:00",
          "08:30:00",
          "08:45:00",
          "09:00:00",
          "09:15:00",
          "09:30:00",
          "09:45:00",
          "10:00:00",
          "10:15:00",
          "10:30:00",
          "10:45:00",
          "11:00:00",
          "11:15:00",
          "11:30:00",
          "11:45:00",
          "12:00:00",
          "12:15:00",
          "12:30:00",
          "12:45:00",
          "13:00:00",
          "13:15:00",
          "13:30:00",
          "13:45:00",
          "14:00:00",
          "14:15:00",
          "14:30:00",
          "14:45:00",
          "15:00:00",
          "15:15:00",
          "15:30:00",
          "15:45:00",
          "16:00:00",
          "16:15:00",
          "16:30:00",
          "16:45:00",
          "17:00:00",
          "17:15:00",
          "17:30:00",
          "17:45:00",
          "18:00:00",
          "18:15:00",
          "18:30:00",
          "18:45:00",
          "19:00:00",
          "19:15:00",
          "19:30:00",
          "19:45:00",
          "20:00:00",
          "20:15:00",
          "20:30:00",
          "20:45:00",
          "21:00:00",
          "21:15:00",
          "21:30:00",
          "21:45:00"
         ],
         "labels": [
          "06:00:00",
          "06:15:00",
          "06:30:00",
          "06:45:00",
          "07:00:00",
          "07:15:00",
          "07:30:00",
          "07:45:00",
          "08:00:00",
          "08:15:00",
          "08:30:00",
          "08:45:00",
          "09:00:00",
          "09:15:00",
          "09:30:00",
          "09:45:00",
          "10:00:00",
          "10:15:00",
          "10:30:00",
          "10:45:00",
          "11:00:00",
          "11:15:00",
          "11:30:00",
          "11:45:00",
          "12:00:00",
          "12:15:00",
          "12:30:00",
          "12:45:00",
          "13:00:00",
          "13:15:00",
          "13:30:00",
          "13:45:00",
          "14:00:00",
          "14:15:00",
          "14:30:00",
          "14:45:00",
          "15:00:00",
          "15:15:00",
          "15:30:00",
          "15:45:00",
          "16:00:00",
          "16:15:00",
          "16:30:00",
          "16:45:00",
          "17:00:00",
          "17:15:00",
          "17:30:00",
          "17:45:00",
          "18:00:00",
          "18:15:00",
          "18:30:00",
          "18:45:00",
          "19:00:00",
          "19:15:00",
          "19:30:00",
          "19:45:00",
          "20:00:00",
          "20:15:00",
          "20:30:00",
          "20:45:00",
          "21:00:00",
          "21:15:00",
          "21:30:00",
          "21:45:00"
         ],
         "marker": {
          "coloraxis": "coloraxis",
          "colors": [
           1.080110497237569,
           1.6030732044198894,
           2.478763812154696,
           3.3002417127071824,
           4.079765193370166,
           5.283667127071824,
           6.925414364640884,
           8.59064226519337,
           9.992058011049723,
           12.561291436464089,
           14.567852209944752,
           15.221512430939226,
           12.136567679558011,
           9.859633977900552,
           8.220476519337016,
           7.434564917127072,
           6.269854972375691,
           6.062672651933702,
           6.13017955801105,
           6.325794198895028,
           6.036947513812155,
           6.2408494475138125,
           6.7394682320441985,
           7.40521408839779,
           8.744475138121548,
           9.835635359116022,
           10.775207182320441,
           11.046098066298342,
           11.689744475138122,
           11.379661602209945,
           10.741367403314918,
           10.17282458563536,
           8.98238950276243,
           8.250345303867404,
           8.143646408839778,
           8.216505524861878,
           8.1041091160221,
           8.256560773480663,
           8.647790055248619,
           8.697686464088397,
           9.509150552486188,
           9.775207182320441,
           10.275725138121548,
           11.041091160220995,
           13.058529005524862,
           14.516401933701658,
           15.925241712707182,
           16.460635359116022,
           16.46788674033149,
           15.649861878453038,
           14.23014502762431,
           12.848929558011049,
           11.46253453038674,
           9.897099447513812,
           8.608598066298342,
           7.64053867403315,
           7.267265193370166,
           6.723756906077348,
           6.134668508287293,
           5.705455801104972,
           5.475828729281768,
           5.39053867403315,
           5.036256906077348,
           4.946823204419889
          ]
         },
         "name": "",
         "parents": [
          "",
          "",
          "",
          "",
          "",
          "",
          "",
          "",
          "",
          "",
          "",
          "",
          "",
          "",
          "",
          "",
          "",
          "",
          "",
          "",
          "",
          "",
          "",
          "",
          "",
          "",
          "",
          "",
          "",
          "",
          "",
          "",
          "",
          "",
          "",
          "",
          "",
          "",
          "",
          "",
          "",
          "",
          "",
          "",
          "",
          "",
          "",
          "",
          "",
          "",
          "",
          "",
          "",
          "",
          "",
          "",
          "",
          "",
          "",
          "",
          "",
          "",
          "",
          ""
         ],
         "type": "sunburst",
         "values": [
          1,
          1,
          1,
          1,
          1,
          1,
          1,
          1,
          1,
          1,
          1,
          1,
          1,
          1,
          1,
          1,
          1,
          1,
          1,
          1,
          1,
          1,
          1,
          1,
          1,
          1,
          1,
          1,
          1,
          1,
          1,
          1,
          1,
          1,
          1,
          1,
          1,
          1,
          1,
          1,
          1,
          1,
          1,
          1,
          1,
          1,
          1,
          1,
          1,
          1,
          1,
          1,
          1,
          1,
          1,
          1,
          1,
          1,
          1,
          1,
          1,
          1,
          1,
          1
         ]
        }
       ],
       "layout": {
        "coloraxis": {
         "colorbar": {
          "title": {
           "text": "Count"
          }
         },
         "colorscale": [
          [
           0,
           "#0d0887"
          ],
          [
           0.1111111111111111,
           "#46039f"
          ],
          [
           0.2222222222222222,
           "#7201a8"
          ],
          [
           0.3333333333333333,
           "#9c179e"
          ],
          [
           0.4444444444444444,
           "#bd3786"
          ],
          [
           0.5555555555555556,
           "#d8576b"
          ],
          [
           0.6666666666666666,
           "#ed7953"
          ],
          [
           0.7777777777777778,
           "#fb9f3a"
          ],
          [
           0.8888888888888888,
           "#fdca26"
          ],
          [
           1,
           "#f0f921"
          ]
         ]
        },
        "height": 600,
        "legend": {
         "tracegroupgap": 0
        },
        "template": {
         "data": {
          "bar": [
           {
            "error_x": {
             "color": "#2a3f5f"
            },
            "error_y": {
             "color": "#2a3f5f"
            },
            "marker": {
             "line": {
              "color": "#E5ECF6",
              "width": 0.5
             },
             "pattern": {
              "fillmode": "overlay",
              "size": 10,
              "solidity": 0.2
             }
            },
            "type": "bar"
           }
          ],
          "barpolar": [
           {
            "marker": {
             "line": {
              "color": "#E5ECF6",
              "width": 0.5
             },
             "pattern": {
              "fillmode": "overlay",
              "size": 10,
              "solidity": 0.2
             }
            },
            "type": "barpolar"
           }
          ],
          "carpet": [
           {
            "aaxis": {
             "endlinecolor": "#2a3f5f",
             "gridcolor": "white",
             "linecolor": "white",
             "minorgridcolor": "white",
             "startlinecolor": "#2a3f5f"
            },
            "baxis": {
             "endlinecolor": "#2a3f5f",
             "gridcolor": "white",
             "linecolor": "white",
             "minorgridcolor": "white",
             "startlinecolor": "#2a3f5f"
            },
            "type": "carpet"
           }
          ],
          "choropleth": [
           {
            "colorbar": {
             "outlinewidth": 0,
             "ticks": ""
            },
            "type": "choropleth"
           }
          ],
          "contour": [
           {
            "colorbar": {
             "outlinewidth": 0,
             "ticks": ""
            },
            "colorscale": [
             [
              0,
              "#0d0887"
             ],
             [
              0.1111111111111111,
              "#46039f"
             ],
             [
              0.2222222222222222,
              "#7201a8"
             ],
             [
              0.3333333333333333,
              "#9c179e"
             ],
             [
              0.4444444444444444,
              "#bd3786"
             ],
             [
              0.5555555555555556,
              "#d8576b"
             ],
             [
              0.6666666666666666,
              "#ed7953"
             ],
             [
              0.7777777777777778,
              "#fb9f3a"
             ],
             [
              0.8888888888888888,
              "#fdca26"
             ],
             [
              1,
              "#f0f921"
             ]
            ],
            "type": "contour"
           }
          ],
          "contourcarpet": [
           {
            "colorbar": {
             "outlinewidth": 0,
             "ticks": ""
            },
            "type": "contourcarpet"
           }
          ],
          "heatmap": [
           {
            "colorbar": {
             "outlinewidth": 0,
             "ticks": ""
            },
            "colorscale": [
             [
              0,
              "#0d0887"
             ],
             [
              0.1111111111111111,
              "#46039f"
             ],
             [
              0.2222222222222222,
              "#7201a8"
             ],
             [
              0.3333333333333333,
              "#9c179e"
             ],
             [
              0.4444444444444444,
              "#bd3786"
             ],
             [
              0.5555555555555556,
              "#d8576b"
             ],
             [
              0.6666666666666666,
              "#ed7953"
             ],
             [
              0.7777777777777778,
              "#fb9f3a"
             ],
             [
              0.8888888888888888,
              "#fdca26"
             ],
             [
              1,
              "#f0f921"
             ]
            ],
            "type": "heatmap"
           }
          ],
          "heatmapgl": [
           {
            "colorbar": {
             "outlinewidth": 0,
             "ticks": ""
            },
            "colorscale": [
             [
              0,
              "#0d0887"
             ],
             [
              0.1111111111111111,
              "#46039f"
             ],
             [
              0.2222222222222222,
              "#7201a8"
             ],
             [
              0.3333333333333333,
              "#9c179e"
             ],
             [
              0.4444444444444444,
              "#bd3786"
             ],
             [
              0.5555555555555556,
              "#d8576b"
             ],
             [
              0.6666666666666666,
              "#ed7953"
             ],
             [
              0.7777777777777778,
              "#fb9f3a"
             ],
             [
              0.8888888888888888,
              "#fdca26"
             ],
             [
              1,
              "#f0f921"
             ]
            ],
            "type": "heatmapgl"
           }
          ],
          "histogram": [
           {
            "marker": {
             "pattern": {
              "fillmode": "overlay",
              "size": 10,
              "solidity": 0.2
             }
            },
            "type": "histogram"
           }
          ],
          "histogram2d": [
           {
            "colorbar": {
             "outlinewidth": 0,
             "ticks": ""
            },
            "colorscale": [
             [
              0,
              "#0d0887"
             ],
             [
              0.1111111111111111,
              "#46039f"
             ],
             [
              0.2222222222222222,
              "#7201a8"
             ],
             [
              0.3333333333333333,
              "#9c179e"
             ],
             [
              0.4444444444444444,
              "#bd3786"
             ],
             [
              0.5555555555555556,
              "#d8576b"
             ],
             [
              0.6666666666666666,
              "#ed7953"
             ],
             [
              0.7777777777777778,
              "#fb9f3a"
             ],
             [
              0.8888888888888888,
              "#fdca26"
             ],
             [
              1,
              "#f0f921"
             ]
            ],
            "type": "histogram2d"
           }
          ],
          "histogram2dcontour": [
           {
            "colorbar": {
             "outlinewidth": 0,
             "ticks": ""
            },
            "colorscale": [
             [
              0,
              "#0d0887"
             ],
             [
              0.1111111111111111,
              "#46039f"
             ],
             [
              0.2222222222222222,
              "#7201a8"
             ],
             [
              0.3333333333333333,
              "#9c179e"
             ],
             [
              0.4444444444444444,
              "#bd3786"
             ],
             [
              0.5555555555555556,
              "#d8576b"
             ],
             [
              0.6666666666666666,
              "#ed7953"
             ],
             [
              0.7777777777777778,
              "#fb9f3a"
             ],
             [
              0.8888888888888888,
              "#fdca26"
             ],
             [
              1,
              "#f0f921"
             ]
            ],
            "type": "histogram2dcontour"
           }
          ],
          "mesh3d": [
           {
            "colorbar": {
             "outlinewidth": 0,
             "ticks": ""
            },
            "type": "mesh3d"
           }
          ],
          "parcoords": [
           {
            "line": {
             "colorbar": {
              "outlinewidth": 0,
              "ticks": ""
             }
            },
            "type": "parcoords"
           }
          ],
          "pie": [
           {
            "automargin": true,
            "type": "pie"
           }
          ],
          "scatter": [
           {
            "fillpattern": {
             "fillmode": "overlay",
             "size": 10,
             "solidity": 0.2
            },
            "type": "scatter"
           }
          ],
          "scatter3d": [
           {
            "line": {
             "colorbar": {
              "outlinewidth": 0,
              "ticks": ""
             }
            },
            "marker": {
             "colorbar": {
              "outlinewidth": 0,
              "ticks": ""
             }
            },
            "type": "scatter3d"
           }
          ],
          "scattercarpet": [
           {
            "marker": {
             "colorbar": {
              "outlinewidth": 0,
              "ticks": ""
             }
            },
            "type": "scattercarpet"
           }
          ],
          "scattergeo": [
           {
            "marker": {
             "colorbar": {
              "outlinewidth": 0,
              "ticks": ""
             }
            },
            "type": "scattergeo"
           }
          ],
          "scattergl": [
           {
            "marker": {
             "colorbar": {
              "outlinewidth": 0,
              "ticks": ""
             }
            },
            "type": "scattergl"
           }
          ],
          "scattermapbox": [
           {
            "marker": {
             "colorbar": {
              "outlinewidth": 0,
              "ticks": ""
             }
            },
            "type": "scattermapbox"
           }
          ],
          "scatterpolar": [
           {
            "marker": {
             "colorbar": {
              "outlinewidth": 0,
              "ticks": ""
             }
            },
            "type": "scatterpolar"
           }
          ],
          "scatterpolargl": [
           {
            "marker": {
             "colorbar": {
              "outlinewidth": 0,
              "ticks": ""
             }
            },
            "type": "scatterpolargl"
           }
          ],
          "scatterternary": [
           {
            "marker": {
             "colorbar": {
              "outlinewidth": 0,
              "ticks": ""
             }
            },
            "type": "scatterternary"
           }
          ],
          "surface": [
           {
            "colorbar": {
             "outlinewidth": 0,
             "ticks": ""
            },
            "colorscale": [
             [
              0,
              "#0d0887"
             ],
             [
              0.1111111111111111,
              "#46039f"
             ],
             [
              0.2222222222222222,
              "#7201a8"
             ],
             [
              0.3333333333333333,
              "#9c179e"
             ],
             [
              0.4444444444444444,
              "#bd3786"
             ],
             [
              0.5555555555555556,
              "#d8576b"
             ],
             [
              0.6666666666666666,
              "#ed7953"
             ],
             [
              0.7777777777777778,
              "#fb9f3a"
             ],
             [
              0.8888888888888888,
              "#fdca26"
             ],
             [
              1,
              "#f0f921"
             ]
            ],
            "type": "surface"
           }
          ],
          "table": [
           {
            "cells": {
             "fill": {
              "color": "#EBF0F8"
             },
             "line": {
              "color": "white"
             }
            },
            "header": {
             "fill": {
              "color": "#C8D4E3"
             },
             "line": {
              "color": "white"
             }
            },
            "type": "table"
           }
          ]
         },
         "layout": {
          "annotationdefaults": {
           "arrowcolor": "#2a3f5f",
           "arrowhead": 0,
           "arrowwidth": 1
          },
          "autotypenumbers": "strict",
          "coloraxis": {
           "colorbar": {
            "outlinewidth": 0,
            "ticks": ""
           }
          },
          "colorscale": {
           "diverging": [
            [
             0,
             "#8e0152"
            ],
            [
             0.1,
             "#c51b7d"
            ],
            [
             0.2,
             "#de77ae"
            ],
            [
             0.3,
             "#f1b6da"
            ],
            [
             0.4,
             "#fde0ef"
            ],
            [
             0.5,
             "#f7f7f7"
            ],
            [
             0.6,
             "#e6f5d0"
            ],
            [
             0.7,
             "#b8e186"
            ],
            [
             0.8,
             "#7fbc41"
            ],
            [
             0.9,
             "#4d9221"
            ],
            [
             1,
             "#276419"
            ]
           ],
           "sequential": [
            [
             0,
             "#0d0887"
            ],
            [
             0.1111111111111111,
             "#46039f"
            ],
            [
             0.2222222222222222,
             "#7201a8"
            ],
            [
             0.3333333333333333,
             "#9c179e"
            ],
            [
             0.4444444444444444,
             "#bd3786"
            ],
            [
             0.5555555555555556,
             "#d8576b"
            ],
            [
             0.6666666666666666,
             "#ed7953"
            ],
            [
             0.7777777777777778,
             "#fb9f3a"
            ],
            [
             0.8888888888888888,
             "#fdca26"
            ],
            [
             1,
             "#f0f921"
            ]
           ],
           "sequentialminus": [
            [
             0,
             "#0d0887"
            ],
            [
             0.1111111111111111,
             "#46039f"
            ],
            [
             0.2222222222222222,
             "#7201a8"
            ],
            [
             0.3333333333333333,
             "#9c179e"
            ],
            [
             0.4444444444444444,
             "#bd3786"
            ],
            [
             0.5555555555555556,
             "#d8576b"
            ],
            [
             0.6666666666666666,
             "#ed7953"
            ],
            [
             0.7777777777777778,
             "#fb9f3a"
            ],
            [
             0.8888888888888888,
             "#fdca26"
            ],
            [
             1,
             "#f0f921"
            ]
           ]
          },
          "colorway": [
           "#636efa",
           "#EF553B",
           "#00cc96",
           "#ab63fa",
           "#FFA15A",
           "#19d3f3",
           "#FF6692",
           "#B6E880",
           "#FF97FF",
           "#FECB52"
          ],
          "font": {
           "color": "#2a3f5f"
          },
          "geo": {
           "bgcolor": "white",
           "lakecolor": "white",
           "landcolor": "#E5ECF6",
           "showlakes": true,
           "showland": true,
           "subunitcolor": "white"
          },
          "hoverlabel": {
           "align": "left"
          },
          "hovermode": "closest",
          "mapbox": {
           "style": "light"
          },
          "paper_bgcolor": "white",
          "plot_bgcolor": "#E5ECF6",
          "polar": {
           "angularaxis": {
            "gridcolor": "white",
            "linecolor": "white",
            "ticks": ""
           },
           "bgcolor": "#E5ECF6",
           "radialaxis": {
            "gridcolor": "white",
            "linecolor": "white",
            "ticks": ""
           }
          },
          "scene": {
           "xaxis": {
            "backgroundcolor": "#E5ECF6",
            "gridcolor": "white",
            "gridwidth": 2,
            "linecolor": "white",
            "showbackground": true,
            "ticks": "",
            "zerolinecolor": "white"
           },
           "yaxis": {
            "backgroundcolor": "#E5ECF6",
            "gridcolor": "white",
            "gridwidth": 2,
            "linecolor": "white",
            "showbackground": true,
            "ticks": "",
            "zerolinecolor": "white"
           },
           "zaxis": {
            "backgroundcolor": "#E5ECF6",
            "gridcolor": "white",
            "gridwidth": 2,
            "linecolor": "white",
            "showbackground": true,
            "ticks": "",
            "zerolinecolor": "white"
           }
          },
          "shapedefaults": {
           "line": {
            "color": "#2a3f5f"
           }
          },
          "ternary": {
           "aaxis": {
            "gridcolor": "white",
            "linecolor": "white",
            "ticks": ""
           },
           "baxis": {
            "gridcolor": "white",
            "linecolor": "white",
            "ticks": ""
           },
           "bgcolor": "#E5ECF6",
           "caxis": {
            "gridcolor": "white",
            "linecolor": "white",
            "ticks": ""
           }
          },
          "title": {
           "x": 0.05
          },
          "xaxis": {
           "automargin": true,
           "gridcolor": "white",
           "linecolor": "white",
           "ticks": "",
           "title": {
            "standoff": 15
           },
           "zerolinecolor": "white",
           "zerolinewidth": 2
          },
          "yaxis": {
           "automargin": true,
           "gridcolor": "white",
           "linecolor": "white",
           "ticks": "",
           "title": {
            "standoff": 15
           },
           "zerolinecolor": "white",
           "zerolinewidth": 2
          }
         }
        },
        "title": {
         "text": "Time vs. Count Sunburst"
        },
        "width": 600
       }
      }
     },
     "metadata": {},
     "output_type": "display_data"
    }
   ],
   "source": [
    "## Time vs. Count Sunburst Chart\n",
    "df2 = df[['Time', 'Count']]\n",
    "df2 = df2['Count'].groupby(df2['Time']).mean().reset_index()\n",
    "\n",
    "# plot\n",
    "fig = px.sunburst(df2, path = ['Time'], color = 'Count', title = 'Time vs. Count Sunburst')\n",
    "fig.update_layout(width=600, height=600)\n",
    "fig.show()"
   ]
  },
  {
   "cell_type": "markdown",
   "id": "eaf83b63",
   "metadata": {},
   "source": [
    "This sunburst/pie chart depicts the relationship between the time of day and the frequency of mobility-based transportation. The slices in the chart represent unique times during the day, or more specifically 15 minute intervals ranging from 6 am to 9 pm. Each slice takes a shade of color that represents the average frequency of transportation uses during that period of time. \n",
    "\n",
    "It is clear that the two peak transportation periods are around 8:45:00 and 18:00:00, because those two slices of the chart hold the brightest color. These times align with the traditional rush hours of a normal weekday, reflecting the morning and evening commutes of a high percentage of the labor force who typically work 9 to 5 jobs. Additionally, the chart shows subtle rises during midday, which is most likely characteristic for lunch breaks and running errands. One specific trend I noticed is that even though most work hours start at 9 am and end at 5 pm, the transportation demand is offset by varying times. First, the peak of morning commute frequencies are at 8:45 am. This signals that a majority of the labor force are leaving early to ensure they get to work on time. On the contrary, the peak of evening commute frequencies are at 6 pm, an hour after the usual ending time. This is because they now have free time and are in no hurry to make any schedule demands. There are also other possible situations that cause later transportation, such as working overtime or getting drinks with co-workers after work.\n",
    "\n",
    "Overall, this allowed me to envision the average day of the adult labor force. I learned how professionals working in the real world  manage their time and go about their duties."
   ]
  },
  {
   "cell_type": "markdown",
   "id": "40b0b114",
   "metadata": {},
   "source": [
    "## Undercovering London's Transportation System "
   ]
  },
  {
   "cell_type": "code",
   "execution_count": 5,
   "id": "62df8d6a",
   "metadata": {
    "ExecuteTime": {
     "end_time": "2023-12-01T11:31:18.620614Z",
     "start_time": "2023-12-01T11:31:16.721466Z"
    }
   },
   "outputs": [
    {
     "data": {
      "application/vnd.plotly.v1+json": {
       "config": {
        "plotlyServerURL": "https://plot.ly"
       },
       "data": [
        {
         "customdata": [
          [
           "Millbank (south of Thorney Street)",
           "Westminster",
           15925
          ],
          [
           "Bishopsgate",
           "City of London",
           32730
          ],
          [
           "Southwark Bridge",
           "Southwark",
           12930
          ],
          [
           "Southwark Bridge Road",
           "Southwark",
           7635
          ],
          [
           "Tooley Street",
           "Southwark",
           62408
          ],
          [
           "Southwark Bridge Road (north - between Flat Iron Square and America Street)",
           "Southwark",
           7890
          ],
          [
           "Albert Embankment (south of Salamanca Street)",
           "Lambeth",
           11354
          ],
          [
           "Strand",
           "Westminster",
           38758
          ],
          [
           "Charing Cross Road",
           "Westminster",
           26444
          ],
          [
           "Lambeth Palace Road",
           "Lambeth",
           7756
          ],
          [
           "Whitehall (south of Horse Guards Avenue)",
           "Westminster",
           51354
          ],
          [
           "Westminster Bridge",
           "Lambeth",
           33634
          ],
          [
           "Victoria Embankment (by Cleopatra's Needle)",
           "Westminster",
           24028
          ],
          [
           "Victoria Embankment (between Derby Gate and Westminster Bridge)",
           "Westminster",
           23428
          ],
          [
           "Millbank (north of Great Peter Street)",
           "Westminster",
           21102
          ],
          [
           "Lambeth Bridge",
           "Westminster",
           13065
          ],
          [
           "Waterloo Bridge",
           "Lambeth",
           24898
          ],
          [
           "Victoria Street",
           "Westminster",
           34060
          ],
          [
           "Bridge Street",
           "Westminster",
           74813
          ],
          [
           "Pall Mall",
           "Westminster",
           9676
          ],
          [
           "Buckingham Palace Road",
           "Westminster",
           29119
          ],
          [
           "Northumberland Avenue",
           "Westminster",
           23484
          ],
          [
           "Kennington Road (north)",
           "Lambeth",
           11977
          ],
          [
           "Lambeth Road",
           "Lambeth",
           4227
          ],
          [
           "Kennington Road (south of Brook Drive)",
           "Lambeth",
           9331
          ],
          [
           "Westminster Bridge Road",
           "Lambeth",
           14381
          ],
          [
           "Waterloo Road",
           "Southwark",
           8240
          ],
          [
           "Blackfriars Road (Southwark station)",
           "Southwark",
           26446
          ],
          [
           "Temple",
           "City of London",
           24180
          ],
          [
           "Blackfriars Bridge",
           "City of London",
           34290
          ],
          [
           "London Bridge",
           "City of London",
           74119
          ],
          [
           "Borough High Street",
           "Southwark",
           36603
          ],
          [
           "Bermondsey Street",
           "Southwark",
           10167
          ],
          [
           "London Road",
           "Southwark",
           13548
          ],
          [
           "Southwark Street",
           "Southwark",
           11763
          ],
          [
           "Lambeth Road (west of St. George's Road)",
           "Southwark",
           4586
          ],
          [
           "Borough Road",
           "Southwark",
           7101
          ],
          [
           "Minories",
           "City of London",
           13750
          ],
          [
           "Gracechurch Street",
           "City of London",
           51770
          ],
          [
           "Blackfriars Road",
           "Southwark",
           13248
          ],
          [
           "Newgate Street",
           "City of London",
           22930
          ],
          [
           "High Holborn",
           "Camden",
           31014
          ],
          [
           "Holborn",
           "City of London",
           42581
          ],
          [
           "New Bridge Street",
           "City of London",
           39312
          ],
          [
           "Strand (east)",
           "Westminster",
           36417
          ],
          [
           "Clerkenwell Road (west)",
           "Camden",
           15372
          ],
          [
           "Moorgate",
           "City of London",
           43409
          ],
          [
           "Farringdon Street",
           "City of London",
           10372
          ],
          [
           "Aldgate High Street",
           "City of London",
           36344
          ],
          [
           "Strand (west)",
           "Westminster",
           16930
          ],
          [
           "Theobald's Road",
           "Camden",
           19480
          ],
          [
           "City Road",
           "Islington",
           22224
          ],
          [
           "Kingsway",
           "Camden",
           25408
          ],
          [
           "Aldwych",
           "Westminster",
           32171
          ],
          [
           "Bloomsbury Way",
           "Camden",
           6554
          ],
          [
           "Southampton Row",
           "Camden",
           16044
          ],
          [
           "Bloomsbury Street",
           "Camden",
           10746
          ],
          [
           "Tottenham Court Road (north)",
           "Camden",
           33305
          ],
          [
           "Tottenham Court Road (south)",
           "Camden",
           39346
          ],
          [
           "Oxford Street (east)",
           "Westminster",
           67849
          ],
          [
           "Charing Cross Road",
           "Camden",
           53566
          ],
          [
           "Regent Street",
           "Westminster",
           80768
          ],
          [
           "Wigmore Street",
           "Westminster",
           14757
          ],
          [
           "Mortimer Street",
           "Westminster",
           20862
          ],
          [
           "Farringdon Road (near station)",
           "Camden",
           19712
          ],
          [
           "Fetter Lane",
           "City of London",
           11248
          ],
          [
           "Rosebery Avenue (north)",
           "Islington",
           8045
          ],
          [
           "Goswell Road (south)",
           "Islington",
           14926
          ],
          [
           "Portland Place",
           "Westminster",
           9844
          ],
          [
           "Shaftesbury Avenue",
           "Westminster",
           35269
          ],
          [
           "Tavistock Square (A4200)",
           "Camden",
           16075
          ],
          [
           "Grays Inn Road (north)",
           "Camden",
           6690
          ],
          [
           "Oxford Street (west)",
           "Westminster",
           94699
          ],
          [
           "Gloucester Place",
           "Westminster",
           4441
          ],
          [
           "Baker Street",
           "Westminster",
           18238
          ],
          [
           "Piccadilly",
           "Westminster",
           24844
          ],
          [
           "York Road",
           "Lambeth",
           27323
          ],
          [
           "Stamford Street",
           "Lambeth",
           13237
          ],
          [
           "Great Dover Street",
           "Southwark",
           6047
          ],
          [
           "Long Lane",
           "Southwark",
           6317
          ],
          [
           "Borough High Street",
           "Southwark",
           18696
          ],
          [
           "Southwark Street",
           "Southwark",
           17214
          ],
          [
           "Newington Causeway",
           "Southwark",
           15287
          ],
          [
           "Upper Thames Street (west of Southwark Bridge)",
           "City of London",
           11371
          ],
          [
           "Lower Thames Street",
           "City of London",
           12312
          ],
          [
           "Clerkenwell Road (east)",
           "Islington",
           14551
          ],
          [
           "Old Street",
           "Islington",
           16007
          ],
          [
           "Goswell Road (north)",
           "Islington",
           9594
          ],
          [
           "London Wall (west)",
           "City of London",
           9673
          ],
          [
           "London Wall (east)",
           "City of London",
           16062
          ],
          [
           "Grays Inn Road (south)",
           "Camden",
           15204
          ],
          [
           "Houndsditch",
           "City of London",
           13353
          ],
          [
           "Bevis Marks",
           "City of London",
           11199
          ],
          [
           "King's Cross Road",
           "Camden",
           6740
          ],
          [
           "Crucifix Lane (Druid Street)",
           "Southwark",
           2889
          ],
          [
           "Horseferry Road (east of Tufton Street)",
           "Westminster",
           11746
          ],
          [
           "The Cut",
           "Lambeth",
           19983
          ],
          [
           "Bunhill Row",
           "Islington",
           8482
          ],
          [
           "St. John Street",
           "Islington",
           7158
          ],
          [
           "Hunter Street",
           "Camden",
           13143
          ],
          [
           "Great Queen Street",
           "Camden",
           20363
          ],
          [
           "Calthorpe Street",
           "Camden",
           6240
          ],
          [
           "New Bond Street",
           "Westminster",
           16302
          ],
          [
           "Great Smith Street (north of Little Smith Street)",
           "Westminster",
           13261
          ],
          [
           "Beech Street",
           "City of London",
           13526
          ],
          [
           "Montague Place",
           "Camden",
           11039
          ],
          [
           "Buckingham Gate",
           "Westminster",
           10949
          ],
          [
           "Thayer Street",
           "Westminster",
           10373
          ],
          [
           "Eastcheap",
           "City of London",
           47870
          ],
          [
           "Grosvenor Street",
           "Westminster",
           6724
          ],
          [
           "Seymour Place",
           "Westminster",
           4974
          ],
          [
           "Regent Square",
           "Camden",
           7051
          ],
          [
           "Wimpole Street",
           "Westminster",
           5778
          ],
          [
           "George Street (east)",
           "Westminster",
           6751
          ],
          [
           "Montague Street",
           "Camden",
           12636
          ],
          [
           "Drury Lane",
           "Westminster",
           8120
          ],
          [
           "Torrington Place",
           "Camden",
           15022
          ],
          [
           "Mabledon Place",
           "Camden",
           12081
          ],
          [
           "Claremont Square",
           "Islington",
           7874
          ],
          [
           "Leadenhall Street",
           "City of London",
           27102
          ],
          [
           "Central Street",
           "Islington",
           5377
          ],
          [
           "Charterhouse Street",
           "Islington",
           10263
          ],
          [
           "Prince's Street",
           "City of London",
           37189
          ],
          [
           "Paul Street",
           "Islington",
           10256
          ],
          [
           "Fleet Street",
           "City of London",
           24103
          ],
          [
           "Golden Lane",
           "Islington",
           3661
          ],
          [
           "Gresham Street",
           "City of London",
           11294
          ],
          [
           "New Cavendish Street",
           "Westminster",
           8518
          ],
          [
           "South Audley Street",
           "Westminster",
           3829
          ],
          [
           "Old Broad Street",
           "City of London",
           28474
          ],
          [
           "Wardour Street",
           "Westminster",
           21328
          ],
          [
           "Berkeley Street",
           "Westminster",
           19233
          ],
          [
           "Snow Hill (West Smithfield)",
           "City of London",
           7175
          ],
          [
           "Churchyard Row",
           "Southwark",
           3221
          ],
          [
           "Black Prince Road (east of Gibson Street)",
           "Lambeth",
           3818
          ],
          [
           "The Mall",
           "Westminster",
           5846
          ],
          [
           "Belvedere Road",
           "Lambeth",
           7604
          ],
          [
           "Petty France",
           "Westminster",
           8734
          ],
          [
           "Birdcage Walk",
           "Westminster",
           3891
          ],
          [
           "Constitution Hill",
           "Westminster",
           5105
          ],
          [
           "Garrick Street",
           "Westminster",
           32234
          ],
          [
           "Welbeck Street",
           "Westminster",
           5914
          ],
          [
           "Crawford Street (west)",
           "Westminster",
           6862
          ],
          [
           "Brook Street",
           "Westminster",
           11319
          ],
          [
           "Lambs Conduit Street",
           "Camden",
           10473
          ],
          [
           "Upper Ground",
           "Lambeth",
           6542
          ],
          [
           "Sumner Steet",
           "Southwark",
           4527
          ],
          [
           "Hercules Road",
           "Lambeth",
           4690
          ],
          [
           "Webber Street (east)",
           "Southwark",
           5166
          ],
          [
           "Weston Street",
           "Southwark",
           3029
          ],
          [
           "Cornwall Road (north)",
           "Lambeth",
           5508
          ],
          [
           "Jewry Street",
           "City of London",
           9596
          ],
          [
           "Carey Street",
           "Camden",
           4765
          ],
          [
           "Appold Street",
           "Hackney",
           12629
          ],
          [
           "Wood Street",
           "City of London",
           4901
          ],
          [
           "Lime Street",
           "City of London",
           18712
          ],
          [
           "Old Compton Street",
           "Westminster",
           24307
          ],
          [
           "Lloyd Baker Street",
           "Islington",
           1843
          ],
          [
           "Fitzroy Street",
           "Camden",
           6623
          ],
          [
           "Emery Hill Street",
           "Westminster",
           4223
          ],
          [
           "Lambeth High Street",
           "Lambeth",
           1985
          ],
          [
           "Brushfield Street",
           "Tower Hamlets",
           14624
          ],
          [
           "Trinity Street (east)",
           "Southwark",
           3217
          ],
          [
           "Gordon Square",
           "Camden",
           6430
          ],
          [
           "Turnmill Street",
           "Islington",
           18968
          ],
          [
           "Carlisle Street",
           "Lambeth",
           4433
          ],
          [
           "Roupell Street",
           "Lambeth",
           8006
          ],
          [
           "Lambeth Walk",
           "Lambeth",
           2116
          ],
          [
           "Temple Place",
           "Westminster",
           3378
          ],
          [
           "Horse Guards Avenue",
           "Westminster",
           6508
          ],
          [
           "Deanery Street",
           "Westminster",
           5463
          ],
          [
           "Stanhope Gate",
           "Westminster",
           1871
          ],
          [
           "Park Street",
           "Westminster",
           4086
          ],
          [
           "Marlborough Road",
           "Westminster",
           11474
          ],
          [
           "Carlisle Place",
           "Westminster",
           9959
          ],
          [
           "Threadneedle Street",
           "City of London",
           15915
          ],
          [
           "Myddelton Street",
           "Islington",
           4051
          ],
          [
           "Greville Street",
           "Camden",
           18484
          ],
          [
           "Saffron Hill",
           "Camden",
           2618
          ],
          [
           "Arundel Street",
           "Westminster",
           12245
          ],
          [
           "Great Ormond Street",
           "Camden",
           10479
          ],
          [
           "Great Cumberland Place",
           "Westminster",
           6456
          ],
          [
           "Montagu Place",
           "Westminster",
           3347
          ],
          [
           "Princeton Street",
           "Camden",
           1661
          ],
          [
           "Eagle Street",
           "Camden",
           2007
          ],
          [
           "Berners Street",
           "Westminster",
           7280
          ],
          [
           "Hastings Street",
           "Camden",
           1796
          ],
          [
           "Devonshire Street",
           "Westminster",
           7351
          ],
          [
           "Duke Street",
           "Westminster",
           7474
          ],
          [
           "Temple Avenue",
           "City of London",
           3551
          ],
          [
           "Trinity Square",
           "City of London",
           7500
          ],
          [
           "Sullivan Row",
           "Lambeth",
           1466
          ],
          [
           "Poland Street",
           "Westminster",
           12954
          ],
          [
           "Juxton Street",
           "Lambeth",
           1415
          ],
          [
           "Riverside Walk (Albert Embankment)",
           "Lambeth",
           3816
          ],
          [
           "Green Park (cycle lane only)",
           "Westminster",
           7302
          ],
          [
           "Marshalsea Road",
           "Southwark",
           4220
          ],
          [
           "Tooley Street (east)",
           "Southwark",
           15198
          ],
          [
           "Southwark Bridge Road (south)",
           "Southwark",
           6355
          ],
          [
           "Upper Thames Street (east of Southwark Bridge)",
           "City of London",
           14789
          ],
          [
           "St. George's Road",
           "Southwark",
           7360
          ],
          [
           "Lambeth Road",
           "Southwark",
           6785
          ],
          [
           "Warner Street",
           "Islington",
           3714
          ],
          [
           "Pakenham Street",
           "Camden",
           3015
          ],
          [
           "Princess Street",
           "Southwark",
           4657
          ],
          [
           "Sidmouth Square",
           "Camden",
           6513
          ],
          [
           "Regent Street",
           "Westminster",
           29461
          ],
          [
           "Haymarket",
           "Westminster",
           20886
          ]
         ],
         "hovertemplate": "<b>%{hovertext}</b><br><br>Count=%{marker.color}<br>Latitude=%{lat}<br>Longitude=%{lon}<br>Location description=%{customdata[0]}<br>Borough=%{customdata[1]}<extra></extra>",
         "hovertext": [
          "Westminster",
          "City of London",
          "Southwark",
          "Southwark",
          "Southwark",
          "Southwark",
          "Lambeth",
          "Westminster",
          "Westminster",
          "Lambeth",
          "Westminster",
          "Lambeth",
          "Westminster",
          "Westminster",
          "Westminster",
          "Westminster",
          "Lambeth",
          "Westminster",
          "Westminster",
          "Westminster",
          "Westminster",
          "Westminster",
          "Lambeth",
          "Lambeth",
          "Lambeth",
          "Lambeth",
          "Southwark",
          "Southwark",
          "City of London",
          "City of London",
          "City of London",
          "Southwark",
          "Southwark",
          "Southwark",
          "Southwark",
          "Southwark",
          "Southwark",
          "City of London",
          "City of London",
          "Southwark",
          "City of London",
          "Camden",
          "City of London",
          "City of London",
          "Westminster",
          "Camden",
          "City of London",
          "City of London",
          "City of London",
          "Westminster",
          "Camden",
          "Islington",
          "Camden",
          "Westminster",
          "Camden",
          "Camden",
          "Camden",
          "Camden",
          "Camden",
          "Westminster",
          "Camden",
          "Westminster",
          "Westminster",
          "Westminster",
          "Camden",
          "City of London",
          "Islington",
          "Islington",
          "Westminster",
          "Westminster",
          "Camden",
          "Camden",
          "Westminster",
          "Westminster",
          "Westminster",
          "Westminster",
          "Lambeth",
          "Lambeth",
          "Southwark",
          "Southwark",
          "Southwark",
          "Southwark",
          "Southwark",
          "City of London",
          "City of London",
          "Islington",
          "Islington",
          "Islington",
          "City of London",
          "City of London",
          "Camden",
          "City of London",
          "City of London",
          "Camden",
          "Southwark",
          "Westminster",
          "Lambeth",
          "Islington",
          "Islington",
          "Camden",
          "Camden",
          "Camden",
          "Westminster",
          "Westminster",
          "City of London",
          "Camden",
          "Westminster",
          "Westminster",
          "City of London",
          "Westminster",
          "Westminster",
          "Camden",
          "Westminster",
          "Westminster",
          "Camden",
          "Westminster",
          "Camden",
          "Camden",
          "Islington",
          "City of London",
          "Islington",
          "Islington",
          "City of London",
          "Islington",
          "City of London",
          "Islington",
          "City of London",
          "Westminster",
          "Westminster",
          "City of London",
          "Westminster",
          "Westminster",
          "City of London",
          "Southwark",
          "Lambeth",
          "Westminster",
          "Lambeth",
          "Westminster",
          "Westminster",
          "Westminster",
          "Westminster",
          "Westminster",
          "Westminster",
          "Westminster",
          "Camden",
          "Lambeth",
          "Southwark",
          "Lambeth",
          "Southwark",
          "Southwark",
          "Lambeth",
          "City of London",
          "Camden",
          "Hackney",
          "City of London",
          "City of London",
          "Westminster",
          "Islington",
          "Camden",
          "Westminster",
          "Lambeth",
          "Tower Hamlets",
          "Southwark",
          "Camden",
          "Islington",
          "Lambeth",
          "Lambeth",
          "Lambeth",
          "Westminster",
          "Westminster",
          "Westminster",
          "Westminster",
          "Westminster",
          "Westminster",
          "Westminster",
          "City of London",
          "Islington",
          "Camden",
          "Camden",
          "Westminster",
          "Camden",
          "Westminster",
          "Westminster",
          "Camden",
          "Camden",
          "Westminster",
          "Camden",
          "Westminster",
          "Westminster",
          "City of London",
          "City of London",
          "Lambeth",
          "Westminster",
          "Lambeth",
          "Lambeth",
          "Westminster",
          "Southwark",
          "Southwark",
          "Southwark",
          "City of London",
          "Southwark",
          "Southwark",
          "Islington",
          "Camden",
          "Southwark",
          "Camden",
          "Westminster",
          "Westminster"
         ],
         "lat": [
          51.492628,
          51.519599,
          51.508123,
          51.500613,
          51.5052,
          51.504068,
          51.4915,
          51.509779,
          51.510077,
          51.499213,
          51.504092,
          51.500776,
          51.508597,
          51.502451,
          51.497205,
          51.494517,
          51.508536,
          51.499444,
          51.500932,
          51.506291,
          51.498808,
          51.507134,
          51.497487,
          51.495773,
          51.494781,
          51.499438,
          51.500187,
          51.504202,
          51.511025,
          51.508786,
          51.509245,
          51.503896,
          51.499889,
          51.496702,
          51.50672,
          51.497021,
          51.498933,
          51.510646,
          51.511339,
          51.499547,
          51.516086,
          51.518202,
          51.517867,
          51.512956,
          51.513665,
          51.522026,
          51.518986,
          51.516212,
          51.513962,
          51.512563,
          51.520478,
          51.521884,
          51.516042,
          51.512806,
          51.517898,
          51.521073,
          51.518111,
          51.523464,
          51.518431,
          51.515998,
          51.514979,
          51.514889,
          51.515591,
          51.519006,
          51.519995,
          51.515805,
          51.528376,
          51.521693,
          51.519294,
          51.512102,
          51.524987,
          51.525191,
          51.514273,
          51.518736,
          51.5186,
          51.506548,
          51.502966,
          51.506043,
          51.498238,
          51.498895,
          51.500792,
          51.504693,
          51.497563,
          51.511097,
          51.50919,
          51.522605,
          51.524888,
          51.524476,
          51.51752,
          51.516587,
          51.519929,
          51.515097,
          51.514996,
          51.526625,
          51.502052,
          51.494853,
          51.503103,
          51.523825,
          51.523304,
          51.525248,
          51.515353,
          51.525137,
          51.514271,
          51.497652,
          51.520666,
          51.519884,
          51.498143,
          51.517549,
          51.510716,
          51.511825,
          51.520087,
          51.526633,
          51.518201,
          51.517013,
          51.520001,
          51.514267,
          51.521818,
          51.528089,
          51.530878,
          51.513463,
          51.527414,
          51.519473,
          51.514264,
          51.522455,
          51.514191,
          51.52266,
          51.515558,
          51.51955,
          51.507966,
          51.514999,
          51.513779,
          51.507415,
          51.517743,
          51.492621,
          51.490894,
          51.503215,
          51.503331,
          51.499422,
          51.500989,
          51.502409,
          51.511661,
          51.517516,
          51.519053,
          51.513063,
          51.521963,
          51.506456,
          51.50668,
          51.498141,
          51.500737,
          51.497763,
          51.505242,
          51.512947,
          51.515003,
          51.520141,
          51.517712,
          51.51219,
          51.513123,
          51.527391,
          51.521891,
          51.495405,
          51.494175,
          51.519072,
          51.498205,
          51.524111,
          51.521896,
          51.498105,
          51.504652,
          51.495767,
          51.510956,
          51.504825,
          51.506973,
          51.50669,
          51.510076,
          51.505124,
          51.496237,
          51.514261,
          51.527555,
          51.519551,
          51.5215,
          51.512199,
          51.52171,
          51.515118,
          51.519024,
          51.519566,
          51.518687,
          51.51749,
          51.52774,
          51.521456,
          51.513641,
          51.511389,
          51.509728,
          51.493881,
          51.515251,
          51.494096,
          51.497026,
          51.502549,
          51.502011,
          51.503184,
          51.497962,
          51.510135,
          51.496805,
          51.498253,
          51.52308,
          51.526227,
          51.496096,
          51.527058,
          51.508236,
          51.50868
         ],
         "legendgroup": "",
         "lon": [
          -0.12520362,
          -0.07925389,
          -0.094550618,
          -0.098926959,
          -0.084629047,
          -0.095742803,
          -0.12213838,
          -0.12311615,
          -0.12824866,
          -0.11696597,
          -0.12623169,
          -0.12022982,
          -0.12058526,
          -0.12371985,
          -0.12573618,
          -0.1230084,
          -0.11681217,
          -0.12970727,
          -0.12489167,
          -0.13500354,
          -0.14342044,
          -0.1258475,
          -0.11193701,
          -0.11441372,
          -0.1108963,
          -0.1136285,
          -0.10761829,
          -0.10455569,
          -0.10943178,
          -0.10443749,
          -0.087269532,
          -0.09119671,
          -0.081537913,
          -0.10230243,
          -0.1034425,
          -0.10924775,
          -0.10177755,
          -0.075076507,
          -0.08555331,
          -0.10473443,
          -0.10154009,
          -0.11449649,
          -0.10935026,
          -0.10424999,
          -0.11198874,
          -0.10906269,
          -0.087913677,
          -0.10486427,
          -0.075469987,
          -0.11555083,
          -0.11737183,
          -0.087013848,
          -0.11944284,
          -0.11839434,
          -0.12360397,
          -0.12361763,
          -0.12793371,
          -0.13709854,
          -0.13215825,
          -0.13525565,
          -0.12997903,
          -0.14185867,
          -0.15331705,
          -0.13668948,
          -0.10580271,
          -0.10916181,
          -0.10688217,
          -0.097371684,
          -0.14463423,
          -0.13172536,
          -0.12825719,
          -0.1168603,
          -0.15011318,
          -0.15830672,
          -0.15593396,
          -0.14326434,
          -0.11600439,
          -0.11050262,
          -0.090554252,
          -0.085095111,
          -0.093876653,
          -0.092661975,
          -0.098808966,
          -0.094945341,
          -0.083337679,
          -0.1014564,
          -0.093115578,
          -0.099288296,
          -0.091765821,
          -0.084742345,
          -0.11229185,
          -0.07834792,
          -0.079274615,
          -0.11375929,
          -0.080712247,
          -0.12767666,
          -0.10722371,
          -0.090204837,
          -0.10240758,
          -0.12324416,
          -0.12133047,
          -0.11461366,
          -0.14655342,
          -0.12955012,
          -0.094473947,
          -0.12915827,
          -0.13608534,
          -0.1514506,
          -0.084830051,
          -0.14658062,
          -0.16358547,
          -0.12155817,
          -0.14829646,
          -0.15795824,
          -0.12573735,
          -0.12143282,
          -0.13422512,
          -0.12766863,
          -0.11094506,
          -0.082884489,
          -0.096916949,
          -0.10243707,
          -0.089552642,
          -0.084510545,
          -0.10608676,
          -0.094852013,
          -0.093908838,
          -0.14602199,
          -0.15108914,
          -0.085010706,
          -0.13426535,
          -0.14237889,
          -0.10501692,
          -0.10238549,
          -0.11687664,
          -0.13724722,
          -0.11745905,
          -0.13624925,
          -0.13353424,
          -0.14595409,
          -0.1266417,
          -0.14936199,
          -0.16362704,
          -0.14637186,
          -0.11855027,
          -0.11325224,
          -0.098746488,
          -0.11293288,
          -0.1016161,
          -0.085704445,
          -0.11104007,
          -0.076665711,
          -0.11297113,
          -0.082661722,
          -0.093617143,
          -0.083125289,
          -0.131453,
          -0.1127473,
          -0.13830148,
          -0.13753682,
          -0.11963702,
          -0.075600515,
          -0.091290407,
          -0.13142126,
          -0.10604095,
          -0.11512431,
          -0.10847078,
          -0.11290129,
          -0.11518478,
          -0.12427076,
          -0.15195073,
          -0.1511264,
          -0.15428944,
          -0.13737113,
          -0.14179609,
          -0.084969598,
          -0.10564753,
          -0.10667159,
          -0.10768624,
          -0.11421111,
          -0.12075172,
          -0.15980746,
          -0.15885727,
          -0.11769772,
          -0.11782046,
          -0.13692431,
          -0.12664496,
          -0.1494041,
          -0.1511332,
          -0.1080332,
          -0.078328859,
          -0.10695745,
          -0.13749129,
          -0.11579389,
          -0.12072991,
          -0.14910391,
          -0.095338656,
          -0.079036444,
          -0.10013223,
          -0.089451578,
          -0.10644735,
          -0.1053644,
          -0.10975419,
          -0.11474162,
          -0.10209709,
          -0.11942149,
          -0.13348306,
          -0.13196624
         ],
         "marker": {
          "color": [
           15925,
           32730,
           12930,
           7635,
           62408,
           7890,
           11354,
           38758,
           26444,
           7756,
           51354,
           33634,
           24028,
           23428,
           21102,
           13065,
           24898,
           34060,
           74813,
           9676,
           29119,
           23484,
           11977,
           4227,
           9331,
           14381,
           8240,
           26446,
           24180,
           34290,
           74119,
           36603,
           10167,
           13548,
           11763,
           4586,
           7101,
           13750,
           51770,
           13248,
           22930,
           31014,
           42581,
           39312,
           36417,
           15372,
           43409,
           10372,
           36344,
           16930,
           19480,
           22224,
           25408,
           32171,
           6554,
           16044,
           10746,
           33305,
           39346,
           67849,
           53566,
           80768,
           14757,
           20862,
           19712,
           11248,
           8045,
           14926,
           9844,
           35269,
           16075,
           6690,
           94699,
           4441,
           18238,
           24844,
           27323,
           13237,
           6047,
           6317,
           18696,
           17214,
           15287,
           11371,
           12312,
           14551,
           16007,
           9594,
           9673,
           16062,
           15204,
           13353,
           11199,
           6740,
           2889,
           11746,
           19983,
           8482,
           7158,
           13143,
           20363,
           6240,
           16302,
           13261,
           13526,
           11039,
           10949,
           10373,
           47870,
           6724,
           4974,
           7051,
           5778,
           6751,
           12636,
           8120,
           15022,
           12081,
           7874,
           27102,
           5377,
           10263,
           37189,
           10256,
           24103,
           3661,
           11294,
           8518,
           3829,
           28474,
           21328,
           19233,
           7175,
           3221,
           3818,
           5846,
           7604,
           8734,
           3891,
           5105,
           32234,
           5914,
           6862,
           11319,
           10473,
           6542,
           4527,
           4690,
           5166,
           3029,
           5508,
           9596,
           4765,
           12629,
           4901,
           18712,
           24307,
           1843,
           6623,
           4223,
           1985,
           14624,
           3217,
           6430,
           18968,
           4433,
           8006,
           2116,
           3378,
           6508,
           5463,
           1871,
           4086,
           11474,
           9959,
           15915,
           4051,
           18484,
           2618,
           12245,
           10479,
           6456,
           3347,
           1661,
           2007,
           7280,
           1796,
           7351,
           7474,
           3551,
           7500,
           1466,
           12954,
           1415,
           3816,
           7302,
           4220,
           15198,
           6355,
           14789,
           7360,
           6785,
           3714,
           3015,
           4657,
           6513,
           29461,
           20886
          ],
          "coloraxis": "coloraxis",
          "size": [
           15925,
           32730,
           12930,
           7635,
           62408,
           7890,
           11354,
           38758,
           26444,
           7756,
           51354,
           33634,
           24028,
           23428,
           21102,
           13065,
           24898,
           34060,
           74813,
           9676,
           29119,
           23484,
           11977,
           4227,
           9331,
           14381,
           8240,
           26446,
           24180,
           34290,
           74119,
           36603,
           10167,
           13548,
           11763,
           4586,
           7101,
           13750,
           51770,
           13248,
           22930,
           31014,
           42581,
           39312,
           36417,
           15372,
           43409,
           10372,
           36344,
           16930,
           19480,
           22224,
           25408,
           32171,
           6554,
           16044,
           10746,
           33305,
           39346,
           67849,
           53566,
           80768,
           14757,
           20862,
           19712,
           11248,
           8045,
           14926,
           9844,
           35269,
           16075,
           6690,
           94699,
           4441,
           18238,
           24844,
           27323,
           13237,
           6047,
           6317,
           18696,
           17214,
           15287,
           11371,
           12312,
           14551,
           16007,
           9594,
           9673,
           16062,
           15204,
           13353,
           11199,
           6740,
           2889,
           11746,
           19983,
           8482,
           7158,
           13143,
           20363,
           6240,
           16302,
           13261,
           13526,
           11039,
           10949,
           10373,
           47870,
           6724,
           4974,
           7051,
           5778,
           6751,
           12636,
           8120,
           15022,
           12081,
           7874,
           27102,
           5377,
           10263,
           37189,
           10256,
           24103,
           3661,
           11294,
           8518,
           3829,
           28474,
           21328,
           19233,
           7175,
           3221,
           3818,
           5846,
           7604,
           8734,
           3891,
           5105,
           32234,
           5914,
           6862,
           11319,
           10473,
           6542,
           4527,
           4690,
           5166,
           3029,
           5508,
           9596,
           4765,
           12629,
           4901,
           18712,
           24307,
           1843,
           6623,
           4223,
           1985,
           14624,
           3217,
           6430,
           18968,
           4433,
           8006,
           2116,
           3378,
           6508,
           5463,
           1871,
           4086,
           11474,
           9959,
           15915,
           4051,
           18484,
           2618,
           12245,
           10479,
           6456,
           3347,
           1661,
           2007,
           7280,
           1796,
           7351,
           7474,
           3551,
           7500,
           1466,
           12954,
           1415,
           3816,
           7302,
           4220,
           15198,
           6355,
           14789,
           7360,
           6785,
           3714,
           3015,
           4657,
           6513,
           29461,
           20886
          ],
          "sizemode": "area",
          "sizeref": 236.7475
         },
         "mode": "markers",
         "name": "",
         "showlegend": false,
         "subplot": "mapbox",
         "type": "scattermapbox"
        }
       ],
       "layout": {
        "coloraxis": {
         "colorbar": {
          "title": {
           "text": "Count"
          }
         },
         "colorscale": [
          [
           0,
           "#0d0887"
          ],
          [
           0.1111111111111111,
           "#46039f"
          ],
          [
           0.2222222222222222,
           "#7201a8"
          ],
          [
           0.3333333333333333,
           "#9c179e"
          ],
          [
           0.4444444444444444,
           "#bd3786"
          ],
          [
           0.5555555555555556,
           "#d8576b"
          ],
          [
           0.6666666666666666,
           "#ed7953"
          ],
          [
           0.7777777777777778,
           "#fb9f3a"
          ],
          [
           0.8888888888888888,
           "#fdca26"
          ],
          [
           1,
           "#f0f921"
          ]
         ]
        },
        "height": 600,
        "legend": {
         "itemsizing": "constant",
         "tracegroupgap": 0
        },
        "mapbox": {
         "center": {
          "lat": 51.511118466346154,
          "lon": -0.11532131671153846
         },
         "domain": {
          "x": [
           0,
           1
          ],
          "y": [
           0,
           1
          ]
         },
         "style": "open-street-map",
         "zoom": 12
        },
        "margin": {
         "b": 0,
         "l": 0,
         "r": 0
        },
        "template": {
         "data": {
          "bar": [
           {
            "error_x": {
             "color": "#2a3f5f"
            },
            "error_y": {
             "color": "#2a3f5f"
            },
            "marker": {
             "line": {
              "color": "#E5ECF6",
              "width": 0.5
             },
             "pattern": {
              "fillmode": "overlay",
              "size": 10,
              "solidity": 0.2
             }
            },
            "type": "bar"
           }
          ],
          "barpolar": [
           {
            "marker": {
             "line": {
              "color": "#E5ECF6",
              "width": 0.5
             },
             "pattern": {
              "fillmode": "overlay",
              "size": 10,
              "solidity": 0.2
             }
            },
            "type": "barpolar"
           }
          ],
          "carpet": [
           {
            "aaxis": {
             "endlinecolor": "#2a3f5f",
             "gridcolor": "white",
             "linecolor": "white",
             "minorgridcolor": "white",
             "startlinecolor": "#2a3f5f"
            },
            "baxis": {
             "endlinecolor": "#2a3f5f",
             "gridcolor": "white",
             "linecolor": "white",
             "minorgridcolor": "white",
             "startlinecolor": "#2a3f5f"
            },
            "type": "carpet"
           }
          ],
          "choropleth": [
           {
            "colorbar": {
             "outlinewidth": 0,
             "ticks": ""
            },
            "type": "choropleth"
           }
          ],
          "contour": [
           {
            "colorbar": {
             "outlinewidth": 0,
             "ticks": ""
            },
            "colorscale": [
             [
              0,
              "#0d0887"
             ],
             [
              0.1111111111111111,
              "#46039f"
             ],
             [
              0.2222222222222222,
              "#7201a8"
             ],
             [
              0.3333333333333333,
              "#9c179e"
             ],
             [
              0.4444444444444444,
              "#bd3786"
             ],
             [
              0.5555555555555556,
              "#d8576b"
             ],
             [
              0.6666666666666666,
              "#ed7953"
             ],
             [
              0.7777777777777778,
              "#fb9f3a"
             ],
             [
              0.8888888888888888,
              "#fdca26"
             ],
             [
              1,
              "#f0f921"
             ]
            ],
            "type": "contour"
           }
          ],
          "contourcarpet": [
           {
            "colorbar": {
             "outlinewidth": 0,
             "ticks": ""
            },
            "type": "contourcarpet"
           }
          ],
          "heatmap": [
           {
            "colorbar": {
             "outlinewidth": 0,
             "ticks": ""
            },
            "colorscale": [
             [
              0,
              "#0d0887"
             ],
             [
              0.1111111111111111,
              "#46039f"
             ],
             [
              0.2222222222222222,
              "#7201a8"
             ],
             [
              0.3333333333333333,
              "#9c179e"
             ],
             [
              0.4444444444444444,
              "#bd3786"
             ],
             [
              0.5555555555555556,
              "#d8576b"
             ],
             [
              0.6666666666666666,
              "#ed7953"
             ],
             [
              0.7777777777777778,
              "#fb9f3a"
             ],
             [
              0.8888888888888888,
              "#fdca26"
             ],
             [
              1,
              "#f0f921"
             ]
            ],
            "type": "heatmap"
           }
          ],
          "heatmapgl": [
           {
            "colorbar": {
             "outlinewidth": 0,
             "ticks": ""
            },
            "colorscale": [
             [
              0,
              "#0d0887"
             ],
             [
              0.1111111111111111,
              "#46039f"
             ],
             [
              0.2222222222222222,
              "#7201a8"
             ],
             [
              0.3333333333333333,
              "#9c179e"
             ],
             [
              0.4444444444444444,
              "#bd3786"
             ],
             [
              0.5555555555555556,
              "#d8576b"
             ],
             [
              0.6666666666666666,
              "#ed7953"
             ],
             [
              0.7777777777777778,
              "#fb9f3a"
             ],
             [
              0.8888888888888888,
              "#fdca26"
             ],
             [
              1,
              "#f0f921"
             ]
            ],
            "type": "heatmapgl"
           }
          ],
          "histogram": [
           {
            "marker": {
             "pattern": {
              "fillmode": "overlay",
              "size": 10,
              "solidity": 0.2
             }
            },
            "type": "histogram"
           }
          ],
          "histogram2d": [
           {
            "colorbar": {
             "outlinewidth": 0,
             "ticks": ""
            },
            "colorscale": [
             [
              0,
              "#0d0887"
             ],
             [
              0.1111111111111111,
              "#46039f"
             ],
             [
              0.2222222222222222,
              "#7201a8"
             ],
             [
              0.3333333333333333,
              "#9c179e"
             ],
             [
              0.4444444444444444,
              "#bd3786"
             ],
             [
              0.5555555555555556,
              "#d8576b"
             ],
             [
              0.6666666666666666,
              "#ed7953"
             ],
             [
              0.7777777777777778,
              "#fb9f3a"
             ],
             [
              0.8888888888888888,
              "#fdca26"
             ],
             [
              1,
              "#f0f921"
             ]
            ],
            "type": "histogram2d"
           }
          ],
          "histogram2dcontour": [
           {
            "colorbar": {
             "outlinewidth": 0,
             "ticks": ""
            },
            "colorscale": [
             [
              0,
              "#0d0887"
             ],
             [
              0.1111111111111111,
              "#46039f"
             ],
             [
              0.2222222222222222,
              "#7201a8"
             ],
             [
              0.3333333333333333,
              "#9c179e"
             ],
             [
              0.4444444444444444,
              "#bd3786"
             ],
             [
              0.5555555555555556,
              "#d8576b"
             ],
             [
              0.6666666666666666,
              "#ed7953"
             ],
             [
              0.7777777777777778,
              "#fb9f3a"
             ],
             [
              0.8888888888888888,
              "#fdca26"
             ],
             [
              1,
              "#f0f921"
             ]
            ],
            "type": "histogram2dcontour"
           }
          ],
          "mesh3d": [
           {
            "colorbar": {
             "outlinewidth": 0,
             "ticks": ""
            },
            "type": "mesh3d"
           }
          ],
          "parcoords": [
           {
            "line": {
             "colorbar": {
              "outlinewidth": 0,
              "ticks": ""
             }
            },
            "type": "parcoords"
           }
          ],
          "pie": [
           {
            "automargin": true,
            "type": "pie"
           }
          ],
          "scatter": [
           {
            "fillpattern": {
             "fillmode": "overlay",
             "size": 10,
             "solidity": 0.2
            },
            "type": "scatter"
           }
          ],
          "scatter3d": [
           {
            "line": {
             "colorbar": {
              "outlinewidth": 0,
              "ticks": ""
             }
            },
            "marker": {
             "colorbar": {
              "outlinewidth": 0,
              "ticks": ""
             }
            },
            "type": "scatter3d"
           }
          ],
          "scattercarpet": [
           {
            "marker": {
             "colorbar": {
              "outlinewidth": 0,
              "ticks": ""
             }
            },
            "type": "scattercarpet"
           }
          ],
          "scattergeo": [
           {
            "marker": {
             "colorbar": {
              "outlinewidth": 0,
              "ticks": ""
             }
            },
            "type": "scattergeo"
           }
          ],
          "scattergl": [
           {
            "marker": {
             "colorbar": {
              "outlinewidth": 0,
              "ticks": ""
             }
            },
            "type": "scattergl"
           }
          ],
          "scattermapbox": [
           {
            "marker": {
             "colorbar": {
              "outlinewidth": 0,
              "ticks": ""
             }
            },
            "type": "scattermapbox"
           }
          ],
          "scatterpolar": [
           {
            "marker": {
             "colorbar": {
              "outlinewidth": 0,
              "ticks": ""
             }
            },
            "type": "scatterpolar"
           }
          ],
          "scatterpolargl": [
           {
            "marker": {
             "colorbar": {
              "outlinewidth": 0,
              "ticks": ""
             }
            },
            "type": "scatterpolargl"
           }
          ],
          "scatterternary": [
           {
            "marker": {
             "colorbar": {
              "outlinewidth": 0,
              "ticks": ""
             }
            },
            "type": "scatterternary"
           }
          ],
          "surface": [
           {
            "colorbar": {
             "outlinewidth": 0,
             "ticks": ""
            },
            "colorscale": [
             [
              0,
              "#0d0887"
             ],
             [
              0.1111111111111111,
              "#46039f"
             ],
             [
              0.2222222222222222,
              "#7201a8"
             ],
             [
              0.3333333333333333,
              "#9c179e"
             ],
             [
              0.4444444444444444,
              "#bd3786"
             ],
             [
              0.5555555555555556,
              "#d8576b"
             ],
             [
              0.6666666666666666,
              "#ed7953"
             ],
             [
              0.7777777777777778,
              "#fb9f3a"
             ],
             [
              0.8888888888888888,
              "#fdca26"
             ],
             [
              1,
              "#f0f921"
             ]
            ],
            "type": "surface"
           }
          ],
          "table": [
           {
            "cells": {
             "fill": {
              "color": "#EBF0F8"
             },
             "line": {
              "color": "white"
             }
            },
            "header": {
             "fill": {
              "color": "#C8D4E3"
             },
             "line": {
              "color": "white"
             }
            },
            "type": "table"
           }
          ]
         },
         "layout": {
          "annotationdefaults": {
           "arrowcolor": "#2a3f5f",
           "arrowhead": 0,
           "arrowwidth": 1
          },
          "autotypenumbers": "strict",
          "coloraxis": {
           "colorbar": {
            "outlinewidth": 0,
            "ticks": ""
           }
          },
          "colorscale": {
           "diverging": [
            [
             0,
             "#8e0152"
            ],
            [
             0.1,
             "#c51b7d"
            ],
            [
             0.2,
             "#de77ae"
            ],
            [
             0.3,
             "#f1b6da"
            ],
            [
             0.4,
             "#fde0ef"
            ],
            [
             0.5,
             "#f7f7f7"
            ],
            [
             0.6,
             "#e6f5d0"
            ],
            [
             0.7,
             "#b8e186"
            ],
            [
             0.8,
             "#7fbc41"
            ],
            [
             0.9,
             "#4d9221"
            ],
            [
             1,
             "#276419"
            ]
           ],
           "sequential": [
            [
             0,
             "#0d0887"
            ],
            [
             0.1111111111111111,
             "#46039f"
            ],
            [
             0.2222222222222222,
             "#7201a8"
            ],
            [
             0.3333333333333333,
             "#9c179e"
            ],
            [
             0.4444444444444444,
             "#bd3786"
            ],
            [
             0.5555555555555556,
             "#d8576b"
            ],
            [
             0.6666666666666666,
             "#ed7953"
            ],
            [
             0.7777777777777778,
             "#fb9f3a"
            ],
            [
             0.8888888888888888,
             "#fdca26"
            ],
            [
             1,
             "#f0f921"
            ]
           ],
           "sequentialminus": [
            [
             0,
             "#0d0887"
            ],
            [
             0.1111111111111111,
             "#46039f"
            ],
            [
             0.2222222222222222,
             "#7201a8"
            ],
            [
             0.3333333333333333,
             "#9c179e"
            ],
            [
             0.4444444444444444,
             "#bd3786"
            ],
            [
             0.5555555555555556,
             "#d8576b"
            ],
            [
             0.6666666666666666,
             "#ed7953"
            ],
            [
             0.7777777777777778,
             "#fb9f3a"
            ],
            [
             0.8888888888888888,
             "#fdca26"
            ],
            [
             1,
             "#f0f921"
            ]
           ]
          },
          "colorway": [
           "#636efa",
           "#EF553B",
           "#00cc96",
           "#ab63fa",
           "#FFA15A",
           "#19d3f3",
           "#FF6692",
           "#B6E880",
           "#FF97FF",
           "#FECB52"
          ],
          "font": {
           "color": "#2a3f5f"
          },
          "geo": {
           "bgcolor": "white",
           "lakecolor": "white",
           "landcolor": "#E5ECF6",
           "showlakes": true,
           "showland": true,
           "subunitcolor": "white"
          },
          "hoverlabel": {
           "align": "left"
          },
          "hovermode": "closest",
          "mapbox": {
           "style": "light"
          },
          "paper_bgcolor": "white",
          "plot_bgcolor": "#E5ECF6",
          "polar": {
           "angularaxis": {
            "gridcolor": "white",
            "linecolor": "white",
            "ticks": ""
           },
           "bgcolor": "#E5ECF6",
           "radialaxis": {
            "gridcolor": "white",
            "linecolor": "white",
            "ticks": ""
           }
          },
          "scene": {
           "xaxis": {
            "backgroundcolor": "#E5ECF6",
            "gridcolor": "white",
            "gridwidth": 2,
            "linecolor": "white",
            "showbackground": true,
            "ticks": "",
            "zerolinecolor": "white"
           },
           "yaxis": {
            "backgroundcolor": "#E5ECF6",
            "gridcolor": "white",
            "gridwidth": 2,
            "linecolor": "white",
            "showbackground": true,
            "ticks": "",
            "zerolinecolor": "white"
           },
           "zaxis": {
            "backgroundcolor": "#E5ECF6",
            "gridcolor": "white",
            "gridwidth": 2,
            "linecolor": "white",
            "showbackground": true,
            "ticks": "",
            "zerolinecolor": "white"
           }
          },
          "shapedefaults": {
           "line": {
            "color": "#2a3f5f"
           }
          },
          "ternary": {
           "aaxis": {
            "gridcolor": "white",
            "linecolor": "white",
            "ticks": ""
           },
           "baxis": {
            "gridcolor": "white",
            "linecolor": "white",
            "ticks": ""
           },
           "bgcolor": "#E5ECF6",
           "caxis": {
            "gridcolor": "white",
            "linecolor": "white",
            "ticks": ""
           }
          },
          "title": {
           "x": 0.05
          },
          "xaxis": {
           "automargin": true,
           "gridcolor": "white",
           "linecolor": "white",
           "ticks": "",
           "title": {
            "standoff": 15
           },
           "zerolinecolor": "white",
           "zerolinewidth": 2
          },
          "yaxis": {
           "automargin": true,
           "gridcolor": "white",
           "linecolor": "white",
           "ticks": "",
           "title": {
            "standoff": 15
           },
           "zerolinecolor": "white",
           "zerolinewidth": 2
          }
         }
        },
        "title": {
         "text": "Interactive Map of Central London"
        }
       }
      }
     },
     "metadata": {},
     "output_type": "display_data"
    }
   ],
   "source": [
    "# geomap of count vs Location within Central London\n",
    "# find population of active transport based on unique id\n",
    "pop = df['Count'].groupby(df['UnqID']).sum()\n",
    "\n",
    "# link location dataset using unique id\n",
    "merge = pd.merge(location,pop, on='UnqID')\n",
    "# print(merge.describe())\n",
    "\n",
    "# plot\n",
    "fig = px.scatter_mapbox(merge, lat='Latitude', lon='Longitude', \n",
    "                        zoom=12, height=600, title='Interactive Map of Central London', color = 'Count', size = 'Count',\n",
    "                        hover_name = 'Borough', hover_data = ['Location description', 'Borough', 'Count']\n",
    "                        )\n",
    "fig.update_layout(mapbox_style=\"open-street-map\", margin=dict(r=0, l=0, b=0))\n",
    "fig.show()\n"
   ]
  },
  {
   "cell_type": "markdown",
   "id": "dac8ad9c",
   "metadata": {},
   "source": [
    "The graph presented above is a geographic density visualization portraying the frequency of mobility-based transportation in Central London. The bubble locations are representative of the locations that were observed and recorded, while the size and color are representative of the frequency. High-density areas are portrayed as larger and brighter-colored bubbles, while lower-density areas are potrayed as smaller and darker-colored bubbles. <br>\n",
    "<br> As observed, there appears to be a clear pattern of higher-density locations along the Thames River. This is significant because areas near the Thames River are home to a multitude of business headquarters, financial institutions, and tourist attractions. The vibrant economic activities most likely attract a lot of commuters and visitors every day. This frequent surge of people towards lively areas most likely escalates the demand for active transportation methods, which is proven by the large, bright bubbles in those areas. Also, the center of London's infrastructure is highly supportive of these different modes of transportation, such as cycling paths and pedestrian routes. From this, I can ultimately identify a positive correlation between economic activity and active transport demand. <br>\n",
    "<br> Another pattern I was able to identify was the degression from the center of the city: the bubbles start off large and bright, but gradually get smaller and adopt darker shades. The closer you are to the center of london, the more compact the area and the closer destinations are to each other, which would make short-distance transportation options like mobility-based transportation more efficient. On the other hand, moving away from the focal point of the city leads to less compact areas. And farther distances can be covered more efficiently with public transport, such as buses or tubes, rather than cycling or walking. This observation is consistent with the design of London's transport system, which extends from the central hub of the city outward.<br>\n",
    "<br>Overall, analyzing this digression from the center revealed the meticulous design and cohesiveness of London's transportation network. It illuminates the infrastructure's role in shaping the city's rhythm and way of life."
   ]
  },
  {
   "cell_type": "markdown",
   "id": "941a4bc0",
   "metadata": {},
   "source": [
    "## Seasonal Impact on Transportation Demand"
   ]
  },
  {
   "cell_type": "code",
   "execution_count": 6,
   "id": "0299c821",
   "metadata": {},
   "outputs": [
    {
     "data": {
      "application/vnd.plotly.v1+json": {
       "config": {
        "plotlyServerURL": "https://plot.ly"
       },
       "data": [
        {
         "hovertemplate": "Date=%{x}<br>Count=%{y}<extra></extra>",
         "legendgroup": "",
         "marker": {
          "color": "#636efa",
          "symbol": "circle"
         },
         "mode": "markers",
         "name": "",
         "orientation": "v",
         "showlegend": false,
         "type": "scatter",
         "x": [
          "2022-01-05T00:00:00",
          "2022-01-06T00:00:00",
          "2022-01-07T00:00:00",
          "2022-01-08T00:00:00",
          "2022-01-09T00:00:00",
          "2022-01-10T00:00:00",
          "2022-01-11T00:00:00",
          "2022-01-12T00:00:00",
          "2022-01-13T00:00:00",
          "2022-01-14T00:00:00",
          "2022-01-16T00:00:00",
          "2022-01-17T00:00:00",
          "2022-01-18T00:00:00",
          "2022-01-19T00:00:00",
          "2022-01-20T00:00:00",
          "2022-01-21T00:00:00",
          "2022-01-22T00:00:00",
          "2022-01-23T00:00:00",
          "2022-01-24T00:00:00",
          "2022-01-25T00:00:00",
          "2022-01-26T00:00:00",
          "2022-01-27T00:00:00",
          "2022-01-28T00:00:00",
          "2022-01-31T00:00:00",
          "2022-02-01T00:00:00",
          "2022-02-02T00:00:00",
          "2022-02-03T00:00:00",
          "2022-02-04T00:00:00",
          "2022-02-07T00:00:00",
          "2022-02-08T00:00:00",
          "2022-02-09T00:00:00",
          "2022-02-10T00:00:00",
          "2022-02-11T00:00:00",
          "2022-02-14T00:00:00",
          "2022-02-15T00:00:00",
          "2022-02-16T00:00:00",
          "2022-02-17T00:00:00",
          "2022-02-18T00:00:00",
          "2022-02-19T00:00:00",
          "2022-02-21T00:00:00",
          "2022-02-22T00:00:00",
          "2022-02-23T00:00:00",
          "2022-02-24T00:00:00",
          "2022-02-25T00:00:00",
          "2022-02-28T00:00:00",
          "2022-03-02T00:00:00",
          "2022-03-03T00:00:00",
          "2022-03-04T00:00:00",
          "2022-03-07T00:00:00",
          "2022-03-08T00:00:00",
          "2022-03-09T00:00:00",
          "2022-03-10T00:00:00",
          "2022-03-11T00:00:00",
          "2022-03-14T00:00:00",
          "2022-03-15T00:00:00",
          "2022-03-16T00:00:00",
          "2022-03-17T00:00:00",
          "2022-03-18T00:00:00",
          "2022-03-21T00:00:00",
          "2022-03-22T00:00:00",
          "2022-03-23T00:00:00",
          "2022-03-24T00:00:00",
          "2022-03-25T00:00:00",
          "2022-03-28T00:00:00",
          "2022-03-29T00:00:00",
          "2022-03-30T00:00:00",
          "2022-03-31T00:00:00",
          "2022-04-01T00:00:00",
          "2022-04-03T00:00:00",
          "2022-05-03T00:00:00",
          "2022-05-04T00:00:00",
          "2022-05-06T00:00:00",
          "2022-05-07T00:00:00",
          "2022-05-08T00:00:00",
          "2022-05-09T00:00:00",
          "2022-05-10T00:00:00",
          "2022-05-11T00:00:00",
          "2022-05-12T00:00:00",
          "2022-05-13T00:00:00",
          "2022-05-15T00:00:00",
          "2022-05-16T00:00:00",
          "2022-05-17T00:00:00",
          "2022-05-18T00:00:00",
          "2022-05-19T00:00:00",
          "2022-05-20T00:00:00",
          "2022-05-23T00:00:00",
          "2022-05-24T00:00:00",
          "2022-05-25T00:00:00",
          "2022-05-26T00:00:00",
          "2022-05-27T00:00:00",
          "2022-06-06T00:00:00",
          "2022-06-07T00:00:00",
          "2022-06-08T00:00:00",
          "2022-06-09T00:00:00",
          "2022-06-10T00:00:00",
          "2022-06-13T00:00:00",
          "2022-06-14T00:00:00",
          "2022-06-15T00:00:00",
          "2022-06-16T00:00:00",
          "2022-06-17T00:00:00",
          "2022-06-18T00:00:00",
          "2022-06-20T00:00:00",
          "2022-06-21T00:00:00",
          "2022-06-22T00:00:00",
          "2022-06-24T00:00:00",
          "2022-06-27T00:00:00",
          "2022-06-28T00:00:00",
          "2022-06-29T00:00:00",
          "2022-06-30T00:00:00",
          "2022-07-01T00:00:00",
          "2022-07-04T00:00:00",
          "2022-07-05T00:00:00",
          "2022-07-06T00:00:00",
          "2022-07-07T00:00:00",
          "2022-07-08T00:00:00",
          "2022-07-11T00:00:00",
          "2022-07-12T00:00:00",
          "2022-07-13T00:00:00",
          "2022-07-14T00:00:00",
          "2022-07-15T00:00:00",
          "2022-07-17T00:00:00",
          "2022-07-18T00:00:00",
          "2022-07-19T00:00:00",
          "2022-07-20T00:00:00",
          "2022-09-06T00:00:00",
          "2022-09-07T00:00:00",
          "2022-09-08T00:00:00",
          "2022-09-09T00:00:00",
          "2022-09-12T00:00:00",
          "2022-09-13T00:00:00",
          "2022-09-14T00:00:00",
          "2022-09-15T00:00:00",
          "2022-09-16T00:00:00",
          "2022-09-20T00:00:00",
          "2022-09-21T00:00:00",
          "2022-09-23T00:00:00",
          "2022-09-26T00:00:00",
          "2022-09-27T00:00:00",
          "2022-09-28T00:00:00",
          "2022-09-29T00:00:00",
          "2022-09-30T00:00:00",
          "2022-10-03T00:00:00",
          "2022-10-04T00:00:00",
          "2022-10-05T00:00:00",
          "2022-10-06T00:00:00",
          "2022-10-07T00:00:00",
          "2022-10-10T00:00:00",
          "2022-10-11T00:00:00",
          "2022-10-12T00:00:00",
          "2022-10-13T00:00:00",
          "2022-10-14T00:00:00",
          "2022-10-17T00:00:00",
          "2022-10-18T00:00:00",
          "2022-10-19T00:00:00",
          "2022-10-21T00:00:00",
          "2022-11-01T00:00:00",
          "2022-11-04T00:00:00",
          "2022-11-23T00:00:00"
         ],
         "xaxis": "x",
         "y": [
          15.451612903225806,
          12,
          12.090909090909092,
          22.9375,
          26,
          16.25925925925926,
          16.571428571428573,
          34.676923076923075,
          36.46031746031746,
          15.466666666666667,
          46.30555555555556,
          21.785714285714285,
          33.357142857142854,
          28.875,
          21.428571428571427,
          22.977777777777778,
          56.41818181818182,
          49.142857142857146,
          44.785714285714285,
          36.22222222222222,
          29.017543859649123,
          58.593023255813954,
          24.851063829787233,
          35.75471698113208,
          24.186046511627907,
          42.83116883116883,
          35.950819672131146,
          18.52173913043478,
          51.010989010989015,
          71.77669902912622,
          45.27777777777778,
          45.343283582089555,
          54.563380281690144,
          12,
          25.62162162162162,
          61.836363636363636,
          48.82142857142857,
          8.066666666666666,
          14.28,
          35.25,
          35.074074074074076,
          63.13186813186813,
          38.109375,
          26.510204081632654,
          42.095238095238095,
          27.741935483870968,
          35.453125,
          22.513513513513512,
          56.36470588235294,
          76.5,
          33.45762711864407,
          40.67123287671233,
          37.588235294117645,
          55.2375,
          86.46913580246914,
          24.142857142857142,
          44.7027027027027,
          53.166666666666664,
          39.36231884057971,
          53.45882352941177,
          59.36904761904762,
          34.981818181818184,
          39.59722222222222,
          22.372093023255815,
          23.627906976744185,
          41.89333333333333,
          46.673469387755105,
          10.681818181818182,
          9,
          5.051262890449858,
          6.1539619542904065,
          46.15094339622642,
          6.477693256578948,
          3.5,
          21.463414634146343,
          6.594356727355141,
          5.985783132530121,
          13.038461538461538,
          16.2,
          2.5,
          4.366347177848775,
          7.1587973396361235,
          21.45692793011405,
          41.48837209302326,
          4.6,
          5.3284925936683125,
          12.029707832064817,
          32.80555555555556,
          12.244275172577957,
          17.071428571428573,
          4.111111111111111,
          6.1510461580356735,
          4.363364743737072,
          4.230390649031067,
          4.8,
          11,
          17.49004004784938,
          11.99663283232481,
          6.249093874592243,
          9.166666666666666,
          19.233333333333334,
          30.68,
          4.111111111111111,
          10.4375,
          18.56756756756757,
          11.666666666666666,
          9.401658696046976,
          12.102263856362217,
          14.034469696969698,
          4.5,
          5.833333333333333,
          2.6312935708752905,
          12.88973191704603,
          18.866010054375707,
          5,
          6.785714285714286,
          10.578224883924365,
          8.762517737684979,
          7.9921875,
          5.388766519823789,
          5.99609375,
          13.919270833333334,
          2.4928385416666665,
          3.4968030690537084,
          5.916666666666667,
          5.666666666666667,
          18.363636363636363,
          4.111111111111111,
          47.660714285714285,
          15.04,
          7.6,
          3.625,
          2,
          38.57377049180328,
          17.852941176470587,
          23.76,
          36.36206896551724,
          52.45454545454545,
          55.885416666666664,
          27.07843137254902,
          52.58695652173913,
          92.8425925925926,
          55.90625,
          50.11764705882353,
          49.114754098360656,
          26.535714285714285,
          3.2857142857142856,
          19.923076923076923,
          67.98701298701299,
          37.07017543859649,
          31.148936170212767,
          35.13333333333333,
          43.84905660377358,
          16.428571428571427,
          12.285714285714286,
          9.9,
          37.73170731707317,
          2.5
         ],
         "yaxis": "y"
        },
        {
         "hovertemplate": "Date=%{x}<br>Count=%{y}<extra></extra>",
         "legendgroup": "",
         "marker": {
          "color": "#636efa",
          "symbol": "circle"
         },
         "mode": "markers",
         "name": "",
         "orientation": "v",
         "showlegend": false,
         "type": "scatter",
         "x": [
          "2022-01-06T00:00:00",
          "2022-01-10T00:00:00",
          "2022-01-11T00:00:00",
          "2022-01-18T00:00:00",
          "2022-01-19T00:00:00",
          "2022-01-21T00:00:00",
          "2022-01-27T00:00:00",
          "2022-01-28T00:00:00",
          "2022-02-04T00:00:00",
          "2022-02-07T00:00:00",
          "2022-02-09T00:00:00",
          "2022-02-11T00:00:00",
          "2022-02-14T00:00:00",
          "2022-02-15T00:00:00",
          "2022-02-17T00:00:00",
          "2022-02-21T00:00:00",
          "2022-02-22T00:00:00",
          "2022-02-24T00:00:00",
          "2022-02-28T00:00:00",
          "2022-03-01T00:00:00",
          "2022-03-02T00:00:00",
          "2022-03-04T00:00:00",
          "2022-03-07T00:00:00",
          "2022-03-09T00:00:00",
          "2022-03-10T00:00:00",
          "2022-03-11T00:00:00",
          "2022-03-14T00:00:00",
          "2022-03-16T00:00:00",
          "2022-03-21T00:00:00",
          "2022-03-22T00:00:00",
          "2022-03-30T00:00:00",
          "2022-03-31T00:00:00",
          "2022-04-01T00:00:00",
          "2022-05-04T00:00:00",
          "2022-05-10T00:00:00",
          "2022-05-11T00:00:00",
          "2022-05-12T00:00:00",
          "2022-05-16T00:00:00",
          "2022-05-19T00:00:00",
          "2022-05-20T00:00:00",
          "2022-05-23T00:00:00",
          "2022-05-24T00:00:00",
          "2022-05-25T00:00:00",
          "2022-06-06T00:00:00",
          "2022-06-07T00:00:00",
          "2022-06-08T00:00:00",
          "2022-06-09T00:00:00",
          "2022-06-27T00:00:00",
          "2022-06-29T00:00:00",
          "2022-06-30T00:00:00",
          "2022-07-20T00:00:00",
          "2022-09-07T00:00:00",
          "2022-09-08T00:00:00",
          "2022-09-12T00:00:00",
          "2022-09-13T00:00:00",
          "2022-09-14T00:00:00",
          "2022-09-21T00:00:00",
          "2022-09-23T00:00:00",
          "2022-09-26T00:00:00",
          "2022-09-27T00:00:00",
          "2022-09-28T00:00:00",
          "2022-09-30T00:00:00",
          "2022-10-07T00:00:00",
          "2022-10-10T00:00:00",
          "2022-10-12T00:00:00",
          "2022-10-14T00:00:00",
          "2022-10-17T00:00:00",
          "2022-10-21T00:00:00",
          "2022-11-01T00:00:00",
          "2022-11-02T00:00:00",
          "2022-11-16T00:00:00",
          "2022-11-17T00:00:00",
          "2022-11-21T00:00:00"
         ],
         "xaxis": "x2",
         "y": [
          3.5,
          15.947368421052632,
          33.98,
          12.31578947368421,
          10,
          3.75,
          3.8333333333333335,
          11.6,
          16.38095238095238,
          7.6,
          24.32,
          4.7,
          7,
          1.75,
          5.636363636363637,
          4.9,
          12.80952380952381,
          29,
          10.11111111111111,
          4.5,
          20.272727272727273,
          6,
          8.25,
          18.88888888888889,
          19.23076923076923,
          13.73913043478261,
          20.870967741935484,
          24.90909090909091,
          8.6875,
          3.875,
          20.90625,
          7.75,
          4.5,
          7.465057471264368,
          5.038288288288288,
          6.1922702176031175,
          1.5,
          3.5494186046511627,
          3.6666666666666665,
          2.6,
          5.128935532233883,
          8.26185708263069,
          3.75,
          3.5,
          3,
          5.753787878787879,
          1.3333333333333333,
          3,
          6.179924242424242,
          9.62037037037037,
          2.1944444444444446,
          3.875,
          43.40243902439025,
          11.071428571428571,
          38.46808510638298,
          0.5,
          3.2,
          4.5,
          9.466666666666667,
          45.088235294117645,
          28.7,
          9.222222222222221,
          6.142857142857143,
          1.75,
          17.4,
          29.875,
          45.25,
          13.708333333333334,
          14.8,
          30.441176470588236,
          3,
          3.5,
          5.428571428571429
         ],
         "yaxis": "y2"
        }
       ],
       "layout": {
        "annotations": [
         {
          "font": {
           "size": 16
          },
          "showarrow": false,
          "text": "Dry Weather",
          "x": 0.225,
          "xanchor": "center",
          "xref": "paper",
          "y": 1,
          "yanchor": "bottom",
          "yref": "paper"
         },
         {
          "font": {
           "size": 16
          },
          "showarrow": false,
          "text": "Wet Weather",
          "x": 0.775,
          "xanchor": "center",
          "xref": "paper",
          "y": 1,
          "yanchor": "bottom",
          "yref": "paper"
         }
        ],
        "template": {
         "data": {
          "bar": [
           {
            "error_x": {
             "color": "#2a3f5f"
            },
            "error_y": {
             "color": "#2a3f5f"
            },
            "marker": {
             "line": {
              "color": "#E5ECF6",
              "width": 0.5
             },
             "pattern": {
              "fillmode": "overlay",
              "size": 10,
              "solidity": 0.2
             }
            },
            "type": "bar"
           }
          ],
          "barpolar": [
           {
            "marker": {
             "line": {
              "color": "#E5ECF6",
              "width": 0.5
             },
             "pattern": {
              "fillmode": "overlay",
              "size": 10,
              "solidity": 0.2
             }
            },
            "type": "barpolar"
           }
          ],
          "carpet": [
           {
            "aaxis": {
             "endlinecolor": "#2a3f5f",
             "gridcolor": "white",
             "linecolor": "white",
             "minorgridcolor": "white",
             "startlinecolor": "#2a3f5f"
            },
            "baxis": {
             "endlinecolor": "#2a3f5f",
             "gridcolor": "white",
             "linecolor": "white",
             "minorgridcolor": "white",
             "startlinecolor": "#2a3f5f"
            },
            "type": "carpet"
           }
          ],
          "choropleth": [
           {
            "colorbar": {
             "outlinewidth": 0,
             "ticks": ""
            },
            "type": "choropleth"
           }
          ],
          "contour": [
           {
            "colorbar": {
             "outlinewidth": 0,
             "ticks": ""
            },
            "colorscale": [
             [
              0,
              "#0d0887"
             ],
             [
              0.1111111111111111,
              "#46039f"
             ],
             [
              0.2222222222222222,
              "#7201a8"
             ],
             [
              0.3333333333333333,
              "#9c179e"
             ],
             [
              0.4444444444444444,
              "#bd3786"
             ],
             [
              0.5555555555555556,
              "#d8576b"
             ],
             [
              0.6666666666666666,
              "#ed7953"
             ],
             [
              0.7777777777777778,
              "#fb9f3a"
             ],
             [
              0.8888888888888888,
              "#fdca26"
             ],
             [
              1,
              "#f0f921"
             ]
            ],
            "type": "contour"
           }
          ],
          "contourcarpet": [
           {
            "colorbar": {
             "outlinewidth": 0,
             "ticks": ""
            },
            "type": "contourcarpet"
           }
          ],
          "heatmap": [
           {
            "colorbar": {
             "outlinewidth": 0,
             "ticks": ""
            },
            "colorscale": [
             [
              0,
              "#0d0887"
             ],
             [
              0.1111111111111111,
              "#46039f"
             ],
             [
              0.2222222222222222,
              "#7201a8"
             ],
             [
              0.3333333333333333,
              "#9c179e"
             ],
             [
              0.4444444444444444,
              "#bd3786"
             ],
             [
              0.5555555555555556,
              "#d8576b"
             ],
             [
              0.6666666666666666,
              "#ed7953"
             ],
             [
              0.7777777777777778,
              "#fb9f3a"
             ],
             [
              0.8888888888888888,
              "#fdca26"
             ],
             [
              1,
              "#f0f921"
             ]
            ],
            "type": "heatmap"
           }
          ],
          "heatmapgl": [
           {
            "colorbar": {
             "outlinewidth": 0,
             "ticks": ""
            },
            "colorscale": [
             [
              0,
              "#0d0887"
             ],
             [
              0.1111111111111111,
              "#46039f"
             ],
             [
              0.2222222222222222,
              "#7201a8"
             ],
             [
              0.3333333333333333,
              "#9c179e"
             ],
             [
              0.4444444444444444,
              "#bd3786"
             ],
             [
              0.5555555555555556,
              "#d8576b"
             ],
             [
              0.6666666666666666,
              "#ed7953"
             ],
             [
              0.7777777777777778,
              "#fb9f3a"
             ],
             [
              0.8888888888888888,
              "#fdca26"
             ],
             [
              1,
              "#f0f921"
             ]
            ],
            "type": "heatmapgl"
           }
          ],
          "histogram": [
           {
            "marker": {
             "pattern": {
              "fillmode": "overlay",
              "size": 10,
              "solidity": 0.2
             }
            },
            "type": "histogram"
           }
          ],
          "histogram2d": [
           {
            "colorbar": {
             "outlinewidth": 0,
             "ticks": ""
            },
            "colorscale": [
             [
              0,
              "#0d0887"
             ],
             [
              0.1111111111111111,
              "#46039f"
             ],
             [
              0.2222222222222222,
              "#7201a8"
             ],
             [
              0.3333333333333333,
              "#9c179e"
             ],
             [
              0.4444444444444444,
              "#bd3786"
             ],
             [
              0.5555555555555556,
              "#d8576b"
             ],
             [
              0.6666666666666666,
              "#ed7953"
             ],
             [
              0.7777777777777778,
              "#fb9f3a"
             ],
             [
              0.8888888888888888,
              "#fdca26"
             ],
             [
              1,
              "#f0f921"
             ]
            ],
            "type": "histogram2d"
           }
          ],
          "histogram2dcontour": [
           {
            "colorbar": {
             "outlinewidth": 0,
             "ticks": ""
            },
            "colorscale": [
             [
              0,
              "#0d0887"
             ],
             [
              0.1111111111111111,
              "#46039f"
             ],
             [
              0.2222222222222222,
              "#7201a8"
             ],
             [
              0.3333333333333333,
              "#9c179e"
             ],
             [
              0.4444444444444444,
              "#bd3786"
             ],
             [
              0.5555555555555556,
              "#d8576b"
             ],
             [
              0.6666666666666666,
              "#ed7953"
             ],
             [
              0.7777777777777778,
              "#fb9f3a"
             ],
             [
              0.8888888888888888,
              "#fdca26"
             ],
             [
              1,
              "#f0f921"
             ]
            ],
            "type": "histogram2dcontour"
           }
          ],
          "mesh3d": [
           {
            "colorbar": {
             "outlinewidth": 0,
             "ticks": ""
            },
            "type": "mesh3d"
           }
          ],
          "parcoords": [
           {
            "line": {
             "colorbar": {
              "outlinewidth": 0,
              "ticks": ""
             }
            },
            "type": "parcoords"
           }
          ],
          "pie": [
           {
            "automargin": true,
            "type": "pie"
           }
          ],
          "scatter": [
           {
            "fillpattern": {
             "fillmode": "overlay",
             "size": 10,
             "solidity": 0.2
            },
            "type": "scatter"
           }
          ],
          "scatter3d": [
           {
            "line": {
             "colorbar": {
              "outlinewidth": 0,
              "ticks": ""
             }
            },
            "marker": {
             "colorbar": {
              "outlinewidth": 0,
              "ticks": ""
             }
            },
            "type": "scatter3d"
           }
          ],
          "scattercarpet": [
           {
            "marker": {
             "colorbar": {
              "outlinewidth": 0,
              "ticks": ""
             }
            },
            "type": "scattercarpet"
           }
          ],
          "scattergeo": [
           {
            "marker": {
             "colorbar": {
              "outlinewidth": 0,
              "ticks": ""
             }
            },
            "type": "scattergeo"
           }
          ],
          "scattergl": [
           {
            "marker": {
             "colorbar": {
              "outlinewidth": 0,
              "ticks": ""
             }
            },
            "type": "scattergl"
           }
          ],
          "scattermapbox": [
           {
            "marker": {
             "colorbar": {
              "outlinewidth": 0,
              "ticks": ""
             }
            },
            "type": "scattermapbox"
           }
          ],
          "scatterpolar": [
           {
            "marker": {
             "colorbar": {
              "outlinewidth": 0,
              "ticks": ""
             }
            },
            "type": "scatterpolar"
           }
          ],
          "scatterpolargl": [
           {
            "marker": {
             "colorbar": {
              "outlinewidth": 0,
              "ticks": ""
             }
            },
            "type": "scatterpolargl"
           }
          ],
          "scatterternary": [
           {
            "marker": {
             "colorbar": {
              "outlinewidth": 0,
              "ticks": ""
             }
            },
            "type": "scatterternary"
           }
          ],
          "surface": [
           {
            "colorbar": {
             "outlinewidth": 0,
             "ticks": ""
            },
            "colorscale": [
             [
              0,
              "#0d0887"
             ],
             [
              0.1111111111111111,
              "#46039f"
             ],
             [
              0.2222222222222222,
              "#7201a8"
             ],
             [
              0.3333333333333333,
              "#9c179e"
             ],
             [
              0.4444444444444444,
              "#bd3786"
             ],
             [
              0.5555555555555556,
              "#d8576b"
             ],
             [
              0.6666666666666666,
              "#ed7953"
             ],
             [
              0.7777777777777778,
              "#fb9f3a"
             ],
             [
              0.8888888888888888,
              "#fdca26"
             ],
             [
              1,
              "#f0f921"
             ]
            ],
            "type": "surface"
           }
          ],
          "table": [
           {
            "cells": {
             "fill": {
              "color": "#EBF0F8"
             },
             "line": {
              "color": "white"
             }
            },
            "header": {
             "fill": {
              "color": "#C8D4E3"
             },
             "line": {
              "color": "white"
             }
            },
            "type": "table"
           }
          ]
         },
         "layout": {
          "annotationdefaults": {
           "arrowcolor": "#2a3f5f",
           "arrowhead": 0,
           "arrowwidth": 1
          },
          "autotypenumbers": "strict",
          "coloraxis": {
           "colorbar": {
            "outlinewidth": 0,
            "ticks": ""
           }
          },
          "colorscale": {
           "diverging": [
            [
             0,
             "#8e0152"
            ],
            [
             0.1,
             "#c51b7d"
            ],
            [
             0.2,
             "#de77ae"
            ],
            [
             0.3,
             "#f1b6da"
            ],
            [
             0.4,
             "#fde0ef"
            ],
            [
             0.5,
             "#f7f7f7"
            ],
            [
             0.6,
             "#e6f5d0"
            ],
            [
             0.7,
             "#b8e186"
            ],
            [
             0.8,
             "#7fbc41"
            ],
            [
             0.9,
             "#4d9221"
            ],
            [
             1,
             "#276419"
            ]
           ],
           "sequential": [
            [
             0,
             "#0d0887"
            ],
            [
             0.1111111111111111,
             "#46039f"
            ],
            [
             0.2222222222222222,
             "#7201a8"
            ],
            [
             0.3333333333333333,
             "#9c179e"
            ],
            [
             0.4444444444444444,
             "#bd3786"
            ],
            [
             0.5555555555555556,
             "#d8576b"
            ],
            [
             0.6666666666666666,
             "#ed7953"
            ],
            [
             0.7777777777777778,
             "#fb9f3a"
            ],
            [
             0.8888888888888888,
             "#fdca26"
            ],
            [
             1,
             "#f0f921"
            ]
           ],
           "sequentialminus": [
            [
             0,
             "#0d0887"
            ],
            [
             0.1111111111111111,
             "#46039f"
            ],
            [
             0.2222222222222222,
             "#7201a8"
            ],
            [
             0.3333333333333333,
             "#9c179e"
            ],
            [
             0.4444444444444444,
             "#bd3786"
            ],
            [
             0.5555555555555556,
             "#d8576b"
            ],
            [
             0.6666666666666666,
             "#ed7953"
            ],
            [
             0.7777777777777778,
             "#fb9f3a"
            ],
            [
             0.8888888888888888,
             "#fdca26"
            ],
            [
             1,
             "#f0f921"
            ]
           ]
          },
          "colorway": [
           "#636efa",
           "#EF553B",
           "#00cc96",
           "#ab63fa",
           "#FFA15A",
           "#19d3f3",
           "#FF6692",
           "#B6E880",
           "#FF97FF",
           "#FECB52"
          ],
          "font": {
           "color": "#2a3f5f"
          },
          "geo": {
           "bgcolor": "white",
           "lakecolor": "white",
           "landcolor": "#E5ECF6",
           "showlakes": true,
           "showland": true,
           "subunitcolor": "white"
          },
          "hoverlabel": {
           "align": "left"
          },
          "hovermode": "closest",
          "mapbox": {
           "style": "light"
          },
          "paper_bgcolor": "white",
          "plot_bgcolor": "#E5ECF6",
          "polar": {
           "angularaxis": {
            "gridcolor": "white",
            "linecolor": "white",
            "ticks": ""
           },
           "bgcolor": "#E5ECF6",
           "radialaxis": {
            "gridcolor": "white",
            "linecolor": "white",
            "ticks": ""
           }
          },
          "scene": {
           "xaxis": {
            "backgroundcolor": "#E5ECF6",
            "gridcolor": "white",
            "gridwidth": 2,
            "linecolor": "white",
            "showbackground": true,
            "ticks": "",
            "zerolinecolor": "white"
           },
           "yaxis": {
            "backgroundcolor": "#E5ECF6",
            "gridcolor": "white",
            "gridwidth": 2,
            "linecolor": "white",
            "showbackground": true,
            "ticks": "",
            "zerolinecolor": "white"
           },
           "zaxis": {
            "backgroundcolor": "#E5ECF6",
            "gridcolor": "white",
            "gridwidth": 2,
            "linecolor": "white",
            "showbackground": true,
            "ticks": "",
            "zerolinecolor": "white"
           }
          },
          "shapedefaults": {
           "line": {
            "color": "#2a3f5f"
           }
          },
          "ternary": {
           "aaxis": {
            "gridcolor": "white",
            "linecolor": "white",
            "ticks": ""
           },
           "baxis": {
            "gridcolor": "white",
            "linecolor": "white",
            "ticks": ""
           },
           "bgcolor": "#E5ECF6",
           "caxis": {
            "gridcolor": "white",
            "linecolor": "white",
            "ticks": ""
           }
          },
          "title": {
           "x": 0.05
          },
          "xaxis": {
           "automargin": true,
           "gridcolor": "white",
           "linecolor": "white",
           "ticks": "",
           "title": {
            "standoff": 15
           },
           "zerolinecolor": "white",
           "zerolinewidth": 2
          },
          "yaxis": {
           "automargin": true,
           "gridcolor": "white",
           "linecolor": "white",
           "ticks": "",
           "title": {
            "standoff": 15
           },
           "zerolinecolor": "white",
           "zerolinewidth": 2
          }
         }
        },
        "xaxis": {
         "anchor": "y",
         "domain": [
          0,
          0.45
         ],
         "dtick": "M1",
         "tickformat": "%b\n%Y",
         "title": {
          "text": "Date"
         }
        },
        "xaxis2": {
         "anchor": "y2",
         "domain": [
          0.55,
          1
         ],
         "dtick": "M1",
         "tickformat": "%b\n%Y",
         "title": {
          "text": "Date"
         }
        },
        "yaxis": {
         "anchor": "x",
         "domain": [
          0,
          1
         ],
         "title": {
          "text": "Count"
         }
        },
        "yaxis2": {
         "anchor": "x2",
         "domain": [
          0,
          1
         ],
         "matches": "y",
         "showticklabels": false
        }
       }
      }
     },
     "metadata": {},
     "output_type": "display_data"
    }
   ],
   "source": [
    "# march june july data\n",
    "mjj = df[['Date','Count','Weather']]\n",
    "# add data for rest of the seasons\n",
    "data3 = pd.concat([mjj,seasons], ignore_index = True)\n",
    "\n",
    "#subplots\n",
    "fig = make_subplots(rows=1, cols=2, subplot_titles=('Dry Weather', 'Wet Weather'), shared_yaxes = True)\n",
    "\n",
    "# dry weather data\n",
    "dry_data = data3[data3['Weather'] == 'Dry']\n",
    "dry_final = dry_data['Count'].groupby(data3['Date']).mean().reset_index()\n",
    "# dry subplot\n",
    "fig1 = px.scatter(dry_final, x='Date', y='Count')\n",
    "for trace in fig1['data']:\n",
    "    fig.add_trace(trace, row=1, col=1)\n",
    "\n",
    "# wet weather data\n",
    "wet_data = data3[data3['Weather'] == 'Wet']\n",
    "wet_final = wet_data['Count'].groupby(data3['Date']).mean().reset_index()\n",
    "# wet subplot\n",
    "fig2 = px.scatter(wet_final, x='Date', y='Count')\n",
    "for trace in fig2['data']:\n",
    "    fig.add_trace(trace, row=1, col=2)\n",
    "\n",
    "# plot\n",
    "fig.update_xaxes(title_text='Date', row=1, col=1, dtick=\"M1\", tickformat=\"%b\\n%Y\")\n",
    "fig.update_xaxes(title_text='Date', row=1, col=2, dtick=\"M1\", tickformat=\"%b\\n%Y\")\n",
    "fig.update_yaxes(title_text='Count', row=1, col=1)\n",
    "fig.show()\n"
   ]
  },
  {
   "cell_type": "markdown",
   "id": "9675d549",
   "metadata": {},
   "source": [
    "Above, I have plotted two scatter charts, one for each weather condition: Dry or Wet. For each graph, the mobility-based transportation usage frequency is depicted, with each dot corresponding to the average frequency of usages on that specific day of the month. The two graphs show the relationship between weather and active transport usage over the year of 2022. However, even though I used multiple datasets to try to get data expanding over all the months within this year, I was still missing data for the month of August.\n",
    "\n",
    "After carefully analyzing the patterns in the scatterplots, I discovered patterns in the demand for active transportation based on the different seasons throughout the year. In the Dry Weather plot, I noticed sharp peaks around times nearing March and October, as well as recessive periods like from June to July. On the contrary, the data scattered in the Wet Weather plot appears more uniform with less fluctuations. From this, I can deduce that most significant climatic factor influencing mobility-based transportation demand is the temperature. This is because, over 2022, seasonal change did not have much influence on the frequency of transportation usage on wet days, but appeared to cause sever fluctuations on dry days, meaning weather conditions do not have much effect on the demand. In the Dry Weather plot, the demand spiked in Spring and Autumn and declined over Summer and Winter, indicating that the people of London prefer to take these transportation options in milder weathers, opposed to the extreme heat of Summer and freezing temperatures of Winter.\n",
    "\n",
    "Summing up, the data on these graphs reveal a clear seasonal trend that preference for mobility-based transportation peaks during milder temperatures. This pattern emphasizes the dominant role of temperature over precipitation in influencing transportation choices throughout the year."
   ]
  },
  {
   "cell_type": "markdown",
   "id": "3091b9d6",
   "metadata": {},
   "source": [
    "## The Call for Infrastructure Investments"
   ]
  },
  {
   "cell_type": "code",
   "execution_count": 7,
   "id": "8cf8e24b",
   "metadata": {},
   "outputs": [
    {
     "data": {
      "application/vnd.plotly.v1+json": {
       "config": {
        "plotlyServerURL": "https://plot.ly"
       },
       "data": [
        {
         "alignmentgroup": "True",
         "hovertemplate": "variable=Wet<br>value=%{x}<br>Mode=%{y}<extra></extra>",
         "legendgroup": "Wet",
         "marker": {
          "color": "#636efa",
          "pattern": {
           "shape": ""
          }
         },
         "name": "Wet",
         "offsetgroup": "Wet",
         "orientation": "h",
         "showlegend": true,
         "textposition": "auto",
         "type": "bar",
         "x": [
          48398,
          226189
         ],
         "xaxis": "x",
         "y": [
          "Conventional cycles",
          "Pedestrians"
         ],
         "yaxis": "y"
        },
        {
         "alignmentgroup": "True",
         "hovertemplate": "variable=Dry<br>value=%{x}<br>Mode=%{y}<extra></extra>",
         "legendgroup": "Dry",
         "marker": {
          "color": "#EF553B",
          "pattern": {
           "shape": ""
          }
         },
         "name": "Dry",
         "offsetgroup": "Dry",
         "orientation": "h",
         "showlegend": true,
         "textposition": "auto",
         "type": "bar",
         "x": [
          564541,
          2427795
         ],
         "xaxis": "x",
         "y": [
          "Conventional cycles",
          "Pedestrians"
         ],
         "yaxis": "y"
        }
       ],
       "layout": {
        "barmode": "relative",
        "legend": {
         "title": {
          "text": "variable"
         },
         "tracegroupgap": 0
        },
        "margin": {
         "t": 60
        },
        "template": {
         "data": {
          "bar": [
           {
            "error_x": {
             "color": "#2a3f5f"
            },
            "error_y": {
             "color": "#2a3f5f"
            },
            "marker": {
             "line": {
              "color": "#E5ECF6",
              "width": 0.5
             },
             "pattern": {
              "fillmode": "overlay",
              "size": 10,
              "solidity": 0.2
             }
            },
            "type": "bar"
           }
          ],
          "barpolar": [
           {
            "marker": {
             "line": {
              "color": "#E5ECF6",
              "width": 0.5
             },
             "pattern": {
              "fillmode": "overlay",
              "size": 10,
              "solidity": 0.2
             }
            },
            "type": "barpolar"
           }
          ],
          "carpet": [
           {
            "aaxis": {
             "endlinecolor": "#2a3f5f",
             "gridcolor": "white",
             "linecolor": "white",
             "minorgridcolor": "white",
             "startlinecolor": "#2a3f5f"
            },
            "baxis": {
             "endlinecolor": "#2a3f5f",
             "gridcolor": "white",
             "linecolor": "white",
             "minorgridcolor": "white",
             "startlinecolor": "#2a3f5f"
            },
            "type": "carpet"
           }
          ],
          "choropleth": [
           {
            "colorbar": {
             "outlinewidth": 0,
             "ticks": ""
            },
            "type": "choropleth"
           }
          ],
          "contour": [
           {
            "colorbar": {
             "outlinewidth": 0,
             "ticks": ""
            },
            "colorscale": [
             [
              0,
              "#0d0887"
             ],
             [
              0.1111111111111111,
              "#46039f"
             ],
             [
              0.2222222222222222,
              "#7201a8"
             ],
             [
              0.3333333333333333,
              "#9c179e"
             ],
             [
              0.4444444444444444,
              "#bd3786"
             ],
             [
              0.5555555555555556,
              "#d8576b"
             ],
             [
              0.6666666666666666,
              "#ed7953"
             ],
             [
              0.7777777777777778,
              "#fb9f3a"
             ],
             [
              0.8888888888888888,
              "#fdca26"
             ],
             [
              1,
              "#f0f921"
             ]
            ],
            "type": "contour"
           }
          ],
          "contourcarpet": [
           {
            "colorbar": {
             "outlinewidth": 0,
             "ticks": ""
            },
            "type": "contourcarpet"
           }
          ],
          "heatmap": [
           {
            "colorbar": {
             "outlinewidth": 0,
             "ticks": ""
            },
            "colorscale": [
             [
              0,
              "#0d0887"
             ],
             [
              0.1111111111111111,
              "#46039f"
             ],
             [
              0.2222222222222222,
              "#7201a8"
             ],
             [
              0.3333333333333333,
              "#9c179e"
             ],
             [
              0.4444444444444444,
              "#bd3786"
             ],
             [
              0.5555555555555556,
              "#d8576b"
             ],
             [
              0.6666666666666666,
              "#ed7953"
             ],
             [
              0.7777777777777778,
              "#fb9f3a"
             ],
             [
              0.8888888888888888,
              "#fdca26"
             ],
             [
              1,
              "#f0f921"
             ]
            ],
            "type": "heatmap"
           }
          ],
          "heatmapgl": [
           {
            "colorbar": {
             "outlinewidth": 0,
             "ticks": ""
            },
            "colorscale": [
             [
              0,
              "#0d0887"
             ],
             [
              0.1111111111111111,
              "#46039f"
             ],
             [
              0.2222222222222222,
              "#7201a8"
             ],
             [
              0.3333333333333333,
              "#9c179e"
             ],
             [
              0.4444444444444444,
              "#bd3786"
             ],
             [
              0.5555555555555556,
              "#d8576b"
             ],
             [
              0.6666666666666666,
              "#ed7953"
             ],
             [
              0.7777777777777778,
              "#fb9f3a"
             ],
             [
              0.8888888888888888,
              "#fdca26"
             ],
             [
              1,
              "#f0f921"
             ]
            ],
            "type": "heatmapgl"
           }
          ],
          "histogram": [
           {
            "marker": {
             "pattern": {
              "fillmode": "overlay",
              "size": 10,
              "solidity": 0.2
             }
            },
            "type": "histogram"
           }
          ],
          "histogram2d": [
           {
            "colorbar": {
             "outlinewidth": 0,
             "ticks": ""
            },
            "colorscale": [
             [
              0,
              "#0d0887"
             ],
             [
              0.1111111111111111,
              "#46039f"
             ],
             [
              0.2222222222222222,
              "#7201a8"
             ],
             [
              0.3333333333333333,
              "#9c179e"
             ],
             [
              0.4444444444444444,
              "#bd3786"
             ],
             [
              0.5555555555555556,
              "#d8576b"
             ],
             [
              0.6666666666666666,
              "#ed7953"
             ],
             [
              0.7777777777777778,
              "#fb9f3a"
             ],
             [
              0.8888888888888888,
              "#fdca26"
             ],
             [
              1,
              "#f0f921"
             ]
            ],
            "type": "histogram2d"
           }
          ],
          "histogram2dcontour": [
           {
            "colorbar": {
             "outlinewidth": 0,
             "ticks": ""
            },
            "colorscale": [
             [
              0,
              "#0d0887"
             ],
             [
              0.1111111111111111,
              "#46039f"
             ],
             [
              0.2222222222222222,
              "#7201a8"
             ],
             [
              0.3333333333333333,
              "#9c179e"
             ],
             [
              0.4444444444444444,
              "#bd3786"
             ],
             [
              0.5555555555555556,
              "#d8576b"
             ],
             [
              0.6666666666666666,
              "#ed7953"
             ],
             [
              0.7777777777777778,
              "#fb9f3a"
             ],
             [
              0.8888888888888888,
              "#fdca26"
             ],
             [
              1,
              "#f0f921"
             ]
            ],
            "type": "histogram2dcontour"
           }
          ],
          "mesh3d": [
           {
            "colorbar": {
             "outlinewidth": 0,
             "ticks": ""
            },
            "type": "mesh3d"
           }
          ],
          "parcoords": [
           {
            "line": {
             "colorbar": {
              "outlinewidth": 0,
              "ticks": ""
             }
            },
            "type": "parcoords"
           }
          ],
          "pie": [
           {
            "automargin": true,
            "type": "pie"
           }
          ],
          "scatter": [
           {
            "fillpattern": {
             "fillmode": "overlay",
             "size": 10,
             "solidity": 0.2
            },
            "type": "scatter"
           }
          ],
          "scatter3d": [
           {
            "line": {
             "colorbar": {
              "outlinewidth": 0,
              "ticks": ""
             }
            },
            "marker": {
             "colorbar": {
              "outlinewidth": 0,
              "ticks": ""
             }
            },
            "type": "scatter3d"
           }
          ],
          "scattercarpet": [
           {
            "marker": {
             "colorbar": {
              "outlinewidth": 0,
              "ticks": ""
             }
            },
            "type": "scattercarpet"
           }
          ],
          "scattergeo": [
           {
            "marker": {
             "colorbar": {
              "outlinewidth": 0,
              "ticks": ""
             }
            },
            "type": "scattergeo"
           }
          ],
          "scattergl": [
           {
            "marker": {
             "colorbar": {
              "outlinewidth": 0,
              "ticks": ""
             }
            },
            "type": "scattergl"
           }
          ],
          "scattermapbox": [
           {
            "marker": {
             "colorbar": {
              "outlinewidth": 0,
              "ticks": ""
             }
            },
            "type": "scattermapbox"
           }
          ],
          "scatterpolar": [
           {
            "marker": {
             "colorbar": {
              "outlinewidth": 0,
              "ticks": ""
             }
            },
            "type": "scatterpolar"
           }
          ],
          "scatterpolargl": [
           {
            "marker": {
             "colorbar": {
              "outlinewidth": 0,
              "ticks": ""
             }
            },
            "type": "scatterpolargl"
           }
          ],
          "scatterternary": [
           {
            "marker": {
             "colorbar": {
              "outlinewidth": 0,
              "ticks": ""
             }
            },
            "type": "scatterternary"
           }
          ],
          "surface": [
           {
            "colorbar": {
             "outlinewidth": 0,
             "ticks": ""
            },
            "colorscale": [
             [
              0,
              "#0d0887"
             ],
             [
              0.1111111111111111,
              "#46039f"
             ],
             [
              0.2222222222222222,
              "#7201a8"
             ],
             [
              0.3333333333333333,
              "#9c179e"
             ],
             [
              0.4444444444444444,
              "#bd3786"
             ],
             [
              0.5555555555555556,
              "#d8576b"
             ],
             [
              0.6666666666666666,
              "#ed7953"
             ],
             [
              0.7777777777777778,
              "#fb9f3a"
             ],
             [
              0.8888888888888888,
              "#fdca26"
             ],
             [
              1,
              "#f0f921"
             ]
            ],
            "type": "surface"
           }
          ],
          "table": [
           {
            "cells": {
             "fill": {
              "color": "#EBF0F8"
             },
             "line": {
              "color": "white"
             }
            },
            "header": {
             "fill": {
              "color": "#C8D4E3"
             },
             "line": {
              "color": "white"
             }
            },
            "type": "table"
           }
          ]
         },
         "layout": {
          "annotationdefaults": {
           "arrowcolor": "#2a3f5f",
           "arrowhead": 0,
           "arrowwidth": 1
          },
          "autotypenumbers": "strict",
          "coloraxis": {
           "colorbar": {
            "outlinewidth": 0,
            "ticks": ""
           }
          },
          "colorscale": {
           "diverging": [
            [
             0,
             "#8e0152"
            ],
            [
             0.1,
             "#c51b7d"
            ],
            [
             0.2,
             "#de77ae"
            ],
            [
             0.3,
             "#f1b6da"
            ],
            [
             0.4,
             "#fde0ef"
            ],
            [
             0.5,
             "#f7f7f7"
            ],
            [
             0.6,
             "#e6f5d0"
            ],
            [
             0.7,
             "#b8e186"
            ],
            [
             0.8,
             "#7fbc41"
            ],
            [
             0.9,
             "#4d9221"
            ],
            [
             1,
             "#276419"
            ]
           ],
           "sequential": [
            [
             0,
             "#0d0887"
            ],
            [
             0.1111111111111111,
             "#46039f"
            ],
            [
             0.2222222222222222,
             "#7201a8"
            ],
            [
             0.3333333333333333,
             "#9c179e"
            ],
            [
             0.4444444444444444,
             "#bd3786"
            ],
            [
             0.5555555555555556,
             "#d8576b"
            ],
            [
             0.6666666666666666,
             "#ed7953"
            ],
            [
             0.7777777777777778,
             "#fb9f3a"
            ],
            [
             0.8888888888888888,
             "#fdca26"
            ],
            [
             1,
             "#f0f921"
            ]
           ],
           "sequentialminus": [
            [
             0,
             "#0d0887"
            ],
            [
             0.1111111111111111,
             "#46039f"
            ],
            [
             0.2222222222222222,
             "#7201a8"
            ],
            [
             0.3333333333333333,
             "#9c179e"
            ],
            [
             0.4444444444444444,
             "#bd3786"
            ],
            [
             0.5555555555555556,
             "#d8576b"
            ],
            [
             0.6666666666666666,
             "#ed7953"
            ],
            [
             0.7777777777777778,
             "#fb9f3a"
            ],
            [
             0.8888888888888888,
             "#fdca26"
            ],
            [
             1,
             "#f0f921"
            ]
           ]
          },
          "colorway": [
           "#636efa",
           "#EF553B",
           "#00cc96",
           "#ab63fa",
           "#FFA15A",
           "#19d3f3",
           "#FF6692",
           "#B6E880",
           "#FF97FF",
           "#FECB52"
          ],
          "font": {
           "color": "#2a3f5f"
          },
          "geo": {
           "bgcolor": "white",
           "lakecolor": "white",
           "landcolor": "#E5ECF6",
           "showlakes": true,
           "showland": true,
           "subunitcolor": "white"
          },
          "hoverlabel": {
           "align": "left"
          },
          "hovermode": "closest",
          "mapbox": {
           "style": "light"
          },
          "paper_bgcolor": "white",
          "plot_bgcolor": "#E5ECF6",
          "polar": {
           "angularaxis": {
            "gridcolor": "white",
            "linecolor": "white",
            "ticks": ""
           },
           "bgcolor": "#E5ECF6",
           "radialaxis": {
            "gridcolor": "white",
            "linecolor": "white",
            "ticks": ""
           }
          },
          "scene": {
           "xaxis": {
            "backgroundcolor": "#E5ECF6",
            "gridcolor": "white",
            "gridwidth": 2,
            "linecolor": "white",
            "showbackground": true,
            "ticks": "",
            "zerolinecolor": "white"
           },
           "yaxis": {
            "backgroundcolor": "#E5ECF6",
            "gridcolor": "white",
            "gridwidth": 2,
            "linecolor": "white",
            "showbackground": true,
            "ticks": "",
            "zerolinecolor": "white"
           },
           "zaxis": {
            "backgroundcolor": "#E5ECF6",
            "gridcolor": "white",
            "gridwidth": 2,
            "linecolor": "white",
            "showbackground": true,
            "ticks": "",
            "zerolinecolor": "white"
           }
          },
          "shapedefaults": {
           "line": {
            "color": "#2a3f5f"
           }
          },
          "ternary": {
           "aaxis": {
            "gridcolor": "white",
            "linecolor": "white",
            "ticks": ""
           },
           "baxis": {
            "gridcolor": "white",
            "linecolor": "white",
            "ticks": ""
           },
           "bgcolor": "#E5ECF6",
           "caxis": {
            "gridcolor": "white",
            "linecolor": "white",
            "ticks": ""
           }
          },
          "title": {
           "x": 0.05
          },
          "xaxis": {
           "automargin": true,
           "gridcolor": "white",
           "linecolor": "white",
           "ticks": "",
           "title": {
            "standoff": 15
           },
           "zerolinecolor": "white",
           "zerolinewidth": 2
          },
          "yaxis": {
           "automargin": true,
           "gridcolor": "white",
           "linecolor": "white",
           "ticks": "",
           "title": {
            "standoff": 15
           },
           "zerolinecolor": "white",
           "zerolinewidth": 2
          }
         }
        },
        "title": {
         "text": "Higher Counts"
        },
        "xaxis": {
         "anchor": "y",
         "domain": [
          0,
          1
         ],
         "title": {
          "text": "Count"
         }
        },
        "yaxis": {
         "anchor": "x",
         "domain": [
          0,
          1
         ],
         "title": {
          "text": "Mode of Transport"
         }
        }
       }
      }
     },
     "metadata": {},
     "output_type": "display_data"
    },
    {
     "data": {
      "application/vnd.plotly.v1+json": {
       "config": {
        "plotlyServerURL": "https://plot.ly"
       },
       "data": [
        {
         "alignmentgroup": "True",
         "hovertemplate": "variable=Wet<br>value=%{x}<br>Mode=%{y}<extra></extra>",
         "legendgroup": "Wet",
         "marker": {
          "color": "#636efa",
          "pattern": {
           "shape": ""
          }
         },
         "name": "Wet",
         "offsetgroup": "Wet",
         "orientation": "h",
         "showlegend": true,
         "textposition": "auto",
         "type": "bar",
         "x": [
          641,
          980,
          0,
          0
         ],
         "xaxis": "x",
         "y": [
          "Cargo bikes",
          "E-scooters",
          "Cycle hire bikes",
          "Private cycles"
         ],
         "yaxis": "y"
        },
        {
         "alignmentgroup": "True",
         "hovertemplate": "variable=Dry<br>value=%{x}<br>Mode=%{y}<extra></extra>",
         "legendgroup": "Dry",
         "marker": {
          "color": "#EF553B",
          "pattern": {
           "shape": ""
          }
         },
         "name": "Dry",
         "offsetgroup": "Dry",
         "orientation": "h",
         "showlegend": true,
         "textposition": "auto",
         "type": "bar",
         "x": [
          4274,
          13311,
          1664,
          15262
         ],
         "xaxis": "x",
         "y": [
          "Cargo bikes",
          "E-scooters",
          "Cycle hire bikes",
          "Private cycles"
         ],
         "yaxis": "y"
        }
       ],
       "layout": {
        "barmode": "relative",
        "legend": {
         "title": {
          "text": "variable"
         },
         "tracegroupgap": 0
        },
        "margin": {
         "t": 60
        },
        "template": {
         "data": {
          "bar": [
           {
            "error_x": {
             "color": "#2a3f5f"
            },
            "error_y": {
             "color": "#2a3f5f"
            },
            "marker": {
             "line": {
              "color": "#E5ECF6",
              "width": 0.5
             },
             "pattern": {
              "fillmode": "overlay",
              "size": 10,
              "solidity": 0.2
             }
            },
            "type": "bar"
           }
          ],
          "barpolar": [
           {
            "marker": {
             "line": {
              "color": "#E5ECF6",
              "width": 0.5
             },
             "pattern": {
              "fillmode": "overlay",
              "size": 10,
              "solidity": 0.2
             }
            },
            "type": "barpolar"
           }
          ],
          "carpet": [
           {
            "aaxis": {
             "endlinecolor": "#2a3f5f",
             "gridcolor": "white",
             "linecolor": "white",
             "minorgridcolor": "white",
             "startlinecolor": "#2a3f5f"
            },
            "baxis": {
             "endlinecolor": "#2a3f5f",
             "gridcolor": "white",
             "linecolor": "white",
             "minorgridcolor": "white",
             "startlinecolor": "#2a3f5f"
            },
            "type": "carpet"
           }
          ],
          "choropleth": [
           {
            "colorbar": {
             "outlinewidth": 0,
             "ticks": ""
            },
            "type": "choropleth"
           }
          ],
          "contour": [
           {
            "colorbar": {
             "outlinewidth": 0,
             "ticks": ""
            },
            "colorscale": [
             [
              0,
              "#0d0887"
             ],
             [
              0.1111111111111111,
              "#46039f"
             ],
             [
              0.2222222222222222,
              "#7201a8"
             ],
             [
              0.3333333333333333,
              "#9c179e"
             ],
             [
              0.4444444444444444,
              "#bd3786"
             ],
             [
              0.5555555555555556,
              "#d8576b"
             ],
             [
              0.6666666666666666,
              "#ed7953"
             ],
             [
              0.7777777777777778,
              "#fb9f3a"
             ],
             [
              0.8888888888888888,
              "#fdca26"
             ],
             [
              1,
              "#f0f921"
             ]
            ],
            "type": "contour"
           }
          ],
          "contourcarpet": [
           {
            "colorbar": {
             "outlinewidth": 0,
             "ticks": ""
            },
            "type": "contourcarpet"
           }
          ],
          "heatmap": [
           {
            "colorbar": {
             "outlinewidth": 0,
             "ticks": ""
            },
            "colorscale": [
             [
              0,
              "#0d0887"
             ],
             [
              0.1111111111111111,
              "#46039f"
             ],
             [
              0.2222222222222222,
              "#7201a8"
             ],
             [
              0.3333333333333333,
              "#9c179e"
             ],
             [
              0.4444444444444444,
              "#bd3786"
             ],
             [
              0.5555555555555556,
              "#d8576b"
             ],
             [
              0.6666666666666666,
              "#ed7953"
             ],
             [
              0.7777777777777778,
              "#fb9f3a"
             ],
             [
              0.8888888888888888,
              "#fdca26"
             ],
             [
              1,
              "#f0f921"
             ]
            ],
            "type": "heatmap"
           }
          ],
          "heatmapgl": [
           {
            "colorbar": {
             "outlinewidth": 0,
             "ticks": ""
            },
            "colorscale": [
             [
              0,
              "#0d0887"
             ],
             [
              0.1111111111111111,
              "#46039f"
             ],
             [
              0.2222222222222222,
              "#7201a8"
             ],
             [
              0.3333333333333333,
              "#9c179e"
             ],
             [
              0.4444444444444444,
              "#bd3786"
             ],
             [
              0.5555555555555556,
              "#d8576b"
             ],
             [
              0.6666666666666666,
              "#ed7953"
             ],
             [
              0.7777777777777778,
              "#fb9f3a"
             ],
             [
              0.8888888888888888,
              "#fdca26"
             ],
             [
              1,
              "#f0f921"
             ]
            ],
            "type": "heatmapgl"
           }
          ],
          "histogram": [
           {
            "marker": {
             "pattern": {
              "fillmode": "overlay",
              "size": 10,
              "solidity": 0.2
             }
            },
            "type": "histogram"
           }
          ],
          "histogram2d": [
           {
            "colorbar": {
             "outlinewidth": 0,
             "ticks": ""
            },
            "colorscale": [
             [
              0,
              "#0d0887"
             ],
             [
              0.1111111111111111,
              "#46039f"
             ],
             [
              0.2222222222222222,
              "#7201a8"
             ],
             [
              0.3333333333333333,
              "#9c179e"
             ],
             [
              0.4444444444444444,
              "#bd3786"
             ],
             [
              0.5555555555555556,
              "#d8576b"
             ],
             [
              0.6666666666666666,
              "#ed7953"
             ],
             [
              0.7777777777777778,
              "#fb9f3a"
             ],
             [
              0.8888888888888888,
              "#fdca26"
             ],
             [
              1,
              "#f0f921"
             ]
            ],
            "type": "histogram2d"
           }
          ],
          "histogram2dcontour": [
           {
            "colorbar": {
             "outlinewidth": 0,
             "ticks": ""
            },
            "colorscale": [
             [
              0,
              "#0d0887"
             ],
             [
              0.1111111111111111,
              "#46039f"
             ],
             [
              0.2222222222222222,
              "#7201a8"
             ],
             [
              0.3333333333333333,
              "#9c179e"
             ],
             [
              0.4444444444444444,
              "#bd3786"
             ],
             [
              0.5555555555555556,
              "#d8576b"
             ],
             [
              0.6666666666666666,
              "#ed7953"
             ],
             [
              0.7777777777777778,
              "#fb9f3a"
             ],
             [
              0.8888888888888888,
              "#fdca26"
             ],
             [
              1,
              "#f0f921"
             ]
            ],
            "type": "histogram2dcontour"
           }
          ],
          "mesh3d": [
           {
            "colorbar": {
             "outlinewidth": 0,
             "ticks": ""
            },
            "type": "mesh3d"
           }
          ],
          "parcoords": [
           {
            "line": {
             "colorbar": {
              "outlinewidth": 0,
              "ticks": ""
             }
            },
            "type": "parcoords"
           }
          ],
          "pie": [
           {
            "automargin": true,
            "type": "pie"
           }
          ],
          "scatter": [
           {
            "fillpattern": {
             "fillmode": "overlay",
             "size": 10,
             "solidity": 0.2
            },
            "type": "scatter"
           }
          ],
          "scatter3d": [
           {
            "line": {
             "colorbar": {
              "outlinewidth": 0,
              "ticks": ""
             }
            },
            "marker": {
             "colorbar": {
              "outlinewidth": 0,
              "ticks": ""
             }
            },
            "type": "scatter3d"
           }
          ],
          "scattercarpet": [
           {
            "marker": {
             "colorbar": {
              "outlinewidth": 0,
              "ticks": ""
             }
            },
            "type": "scattercarpet"
           }
          ],
          "scattergeo": [
           {
            "marker": {
             "colorbar": {
              "outlinewidth": 0,
              "ticks": ""
             }
            },
            "type": "scattergeo"
           }
          ],
          "scattergl": [
           {
            "marker": {
             "colorbar": {
              "outlinewidth": 0,
              "ticks": ""
             }
            },
            "type": "scattergl"
           }
          ],
          "scattermapbox": [
           {
            "marker": {
             "colorbar": {
              "outlinewidth": 0,
              "ticks": ""
             }
            },
            "type": "scattermapbox"
           }
          ],
          "scatterpolar": [
           {
            "marker": {
             "colorbar": {
              "outlinewidth": 0,
              "ticks": ""
             }
            },
            "type": "scatterpolar"
           }
          ],
          "scatterpolargl": [
           {
            "marker": {
             "colorbar": {
              "outlinewidth": 0,
              "ticks": ""
             }
            },
            "type": "scatterpolargl"
           }
          ],
          "scatterternary": [
           {
            "marker": {
             "colorbar": {
              "outlinewidth": 0,
              "ticks": ""
             }
            },
            "type": "scatterternary"
           }
          ],
          "surface": [
           {
            "colorbar": {
             "outlinewidth": 0,
             "ticks": ""
            },
            "colorscale": [
             [
              0,
              "#0d0887"
             ],
             [
              0.1111111111111111,
              "#46039f"
             ],
             [
              0.2222222222222222,
              "#7201a8"
             ],
             [
              0.3333333333333333,
              "#9c179e"
             ],
             [
              0.4444444444444444,
              "#bd3786"
             ],
             [
              0.5555555555555556,
              "#d8576b"
             ],
             [
              0.6666666666666666,
              "#ed7953"
             ],
             [
              0.7777777777777778,
              "#fb9f3a"
             ],
             [
              0.8888888888888888,
              "#fdca26"
             ],
             [
              1,
              "#f0f921"
             ]
            ],
            "type": "surface"
           }
          ],
          "table": [
           {
            "cells": {
             "fill": {
              "color": "#EBF0F8"
             },
             "line": {
              "color": "white"
             }
            },
            "header": {
             "fill": {
              "color": "#C8D4E3"
             },
             "line": {
              "color": "white"
             }
            },
            "type": "table"
           }
          ]
         },
         "layout": {
          "annotationdefaults": {
           "arrowcolor": "#2a3f5f",
           "arrowhead": 0,
           "arrowwidth": 1
          },
          "autotypenumbers": "strict",
          "coloraxis": {
           "colorbar": {
            "outlinewidth": 0,
            "ticks": ""
           }
          },
          "colorscale": {
           "diverging": [
            [
             0,
             "#8e0152"
            ],
            [
             0.1,
             "#c51b7d"
            ],
            [
             0.2,
             "#de77ae"
            ],
            [
             0.3,
             "#f1b6da"
            ],
            [
             0.4,
             "#fde0ef"
            ],
            [
             0.5,
             "#f7f7f7"
            ],
            [
             0.6,
             "#e6f5d0"
            ],
            [
             0.7,
             "#b8e186"
            ],
            [
             0.8,
             "#7fbc41"
            ],
            [
             0.9,
             "#4d9221"
            ],
            [
             1,
             "#276419"
            ]
           ],
           "sequential": [
            [
             0,
             "#0d0887"
            ],
            [
             0.1111111111111111,
             "#46039f"
            ],
            [
             0.2222222222222222,
             "#7201a8"
            ],
            [
             0.3333333333333333,
             "#9c179e"
            ],
            [
             0.4444444444444444,
             "#bd3786"
            ],
            [
             0.5555555555555556,
             "#d8576b"
            ],
            [
             0.6666666666666666,
             "#ed7953"
            ],
            [
             0.7777777777777778,
             "#fb9f3a"
            ],
            [
             0.8888888888888888,
             "#fdca26"
            ],
            [
             1,
             "#f0f921"
            ]
           ],
           "sequentialminus": [
            [
             0,
             "#0d0887"
            ],
            [
             0.1111111111111111,
             "#46039f"
            ],
            [
             0.2222222222222222,
             "#7201a8"
            ],
            [
             0.3333333333333333,
             "#9c179e"
            ],
            [
             0.4444444444444444,
             "#bd3786"
            ],
            [
             0.5555555555555556,
             "#d8576b"
            ],
            [
             0.6666666666666666,
             "#ed7953"
            ],
            [
             0.7777777777777778,
             "#fb9f3a"
            ],
            [
             0.8888888888888888,
             "#fdca26"
            ],
            [
             1,
             "#f0f921"
            ]
           ]
          },
          "colorway": [
           "#636efa",
           "#EF553B",
           "#00cc96",
           "#ab63fa",
           "#FFA15A",
           "#19d3f3",
           "#FF6692",
           "#B6E880",
           "#FF97FF",
           "#FECB52"
          ],
          "font": {
           "color": "#2a3f5f"
          },
          "geo": {
           "bgcolor": "white",
           "lakecolor": "white",
           "landcolor": "#E5ECF6",
           "showlakes": true,
           "showland": true,
           "subunitcolor": "white"
          },
          "hoverlabel": {
           "align": "left"
          },
          "hovermode": "closest",
          "mapbox": {
           "style": "light"
          },
          "paper_bgcolor": "white",
          "plot_bgcolor": "#E5ECF6",
          "polar": {
           "angularaxis": {
            "gridcolor": "white",
            "linecolor": "white",
            "ticks": ""
           },
           "bgcolor": "#E5ECF6",
           "radialaxis": {
            "gridcolor": "white",
            "linecolor": "white",
            "ticks": ""
           }
          },
          "scene": {
           "xaxis": {
            "backgroundcolor": "#E5ECF6",
            "gridcolor": "white",
            "gridwidth": 2,
            "linecolor": "white",
            "showbackground": true,
            "ticks": "",
            "zerolinecolor": "white"
           },
           "yaxis": {
            "backgroundcolor": "#E5ECF6",
            "gridcolor": "white",
            "gridwidth": 2,
            "linecolor": "white",
            "showbackground": true,
            "ticks": "",
            "zerolinecolor": "white"
           },
           "zaxis": {
            "backgroundcolor": "#E5ECF6",
            "gridcolor": "white",
            "gridwidth": 2,
            "linecolor": "white",
            "showbackground": true,
            "ticks": "",
            "zerolinecolor": "white"
           }
          },
          "shapedefaults": {
           "line": {
            "color": "#2a3f5f"
           }
          },
          "ternary": {
           "aaxis": {
            "gridcolor": "white",
            "linecolor": "white",
            "ticks": ""
           },
           "baxis": {
            "gridcolor": "white",
            "linecolor": "white",
            "ticks": ""
           },
           "bgcolor": "#E5ECF6",
           "caxis": {
            "gridcolor": "white",
            "linecolor": "white",
            "ticks": ""
           }
          },
          "title": {
           "x": 0.05
          },
          "xaxis": {
           "automargin": true,
           "gridcolor": "white",
           "linecolor": "white",
           "ticks": "",
           "title": {
            "standoff": 15
           },
           "zerolinecolor": "white",
           "zerolinewidth": 2
          },
          "yaxis": {
           "automargin": true,
           "gridcolor": "white",
           "linecolor": "white",
           "ticks": "",
           "title": {
            "standoff": 15
           },
           "zerolinecolor": "white",
           "zerolinewidth": 2
          }
         }
        },
        "title": {
         "text": "Lower Counts"
        },
        "xaxis": {
         "anchor": "y",
         "domain": [
          0,
          1
         ],
         "title": {
          "text": "Count"
         }
        },
        "yaxis": {
         "anchor": "x",
         "domain": [
          0,
          1
         ],
         "title": {
          "text": "Mode of Transport"
         }
        }
       }
      }
     },
     "metadata": {},
     "output_type": "display_data"
    }
   ],
   "source": [
    "# empty dataframe\n",
    "df4 = pd.DataFrame(columns = ['Mode','Wet','Dry'])\n",
    "\n",
    "# list of unique modes\n",
    "modes = df['Mode'].unique()\n",
    "# series of wet\n",
    "wet = df[df['Weather'] == 'Wet']\n",
    "wet = wet['Count'].groupby(df['Mode']).sum().reset_index(name = 'Wet')\n",
    "# series of dry\n",
    "dry = df[df['Weather'] == 'Dry']\n",
    "dry = dry['Count'].groupby(df['Mode']).sum().reset_index(name = 'Dry')\n",
    "\n",
    "# combine for final df\n",
    "df4['Mode'] = modes\n",
    "df4 = pd.merge(wet,dry, on='Mode', how='outer')\n",
    "# print(df4)\n",
    "# check for nulls\n",
    "nulldf4 = df4.isnull()\n",
    "# print(nulldf4)\n",
    "# find out why there are nulls\n",
    "pc = False\n",
    "for i in range(len(df['Mode'])):\n",
    "    if df.loc[i, 'Mode'] == 'Private cycles' and df.loc[i, 'Weather'] == 'Wet':\n",
    "        pc = True\n",
    "# print(pc)\n",
    "# fix nulls\n",
    "df4['Wet'] = df4['Wet'].fillna(0)\n",
    "nulldf4 = df4.isnull()\n",
    "# print(nulldf4)\n",
    "\n",
    "# print(df4.describe())\n",
    "# subplot option\n",
    "fig = make_subplots(rows=1, cols=2, subplot_titles=('Higher Counts', 'Lower Counts'))\n",
    "\n",
    "anomaly = df4[df4['Mode'].isin(['Pedestrians','Conventional cycles'])]\n",
    "rest = df4[~df4['Mode'].isin(['Pedestrians','Conventional cycles'])]\n",
    "fig1 = px.bar(anomaly, y = 'Mode', x = ['Wet','Dry'])\n",
    "fig1.update_layout(xaxis_title = 'Count', yaxis_title = 'Mode of Transport', title = 'Higher Counts')\n",
    "fig1.show()\n",
    "fig2 = px.bar(rest, y = 'Mode', x = ['Wet','Dry'])\n",
    "fig2.update_layout(xaxis_title = 'Count', yaxis_title = 'Mode of Transport', title = 'Lower Counts')\n",
    "fig2.show()\n",
    "\n",
    "# print(\"Conventional Cycles ratio to Pedestrian (Dry):\",df4['Dry'].loc[1]/df4['Dry'].loc[3])\n",
    "# print(\"Conventional Cycles ratio to Pedestrian (Wet):\",df4['Wet'].loc[1]/df4['Wet'].loc[3])\n",
    "\n",
    "# plot\n",
    "# fig = px.bar(df4, x = 'Mode', y = ['Wet','Dry'], title = 'Mode vs. Weather Segmented Bar Chart')\n",
    "# fig.show()"
   ]
  },
  {
   "cell_type": "markdown",
   "id": "53111525",
   "metadata": {},
   "source": [
    "This horizontal segmented bar chart compares the frequencies of use between each mode of mobility-based transport under the condition of the weather. To make the comparison more visually intuitive, I seperated the data into two graphs. Because a couple of the modes had significantly higher counts of usage, it would be easier for juxtaposed with different scales.\n",
    "\n",
    "When comparing the different modes of category, it becomes clear that a hierarchy is formed, with Pedestrians leading by a significant margin, followed by Conventional Cycles and then the rest. Breaking this down is extremely important because it takes the first step towards infrastructure investment priorities. This calls for the need to invest more on modes of transport that are in higher demand, such as walking and conventional cycling. The call for infrastructure improvement is also demonstrated by the patterns revealed under different weather conditions. When comparing the usage frequencies between dry days and wet days, we can see that the usage decreases a considerable amount. This promotes the idea that we need more facilities and solutions to enabling mobility transport options under extreme weathers.\n",
    "\n",
    "Overall, not only would this make active transport easier and reduce traffic congestion, this would also promote healthier lifestyles by encouraging people to choose transportation options that require mobility. As you can see, by building new walkways, expanding cycling lanes, and making travel paths more weather-protected, the community environment is benefited as a whole.\n"
   ]
  },
  {
   "cell_type": "markdown",
   "id": "1772cf64",
   "metadata": {},
   "source": [
    "# **Conclusion**"
   ]
  },
  {
   "cell_type": "markdown",
   "id": "2efec4d5",
   "metadata": {},
   "source": [
    "In conclusion, my comprehensive data analysis on mobility-based transportation methods in Central London during 2022 revealed insightful correlations with external variables. The results provided new perspectives on the professional world, highlighting how infrastructure shapes urban lifestyle and how climate conditions significantly influence the city's dynamics. The findings of my analysis highlight the dynamic nature of urban mobility, showing how transportation influences and gets influenced by the enviornment and community. All in all, not only did my investigation reflect the current state of urban mobility in London, it also provides a blueprint for future research and development."
   ]
  }
 ],
 "metadata": {
  "kernelspec": {
   "display_name": "Python 3 (ipykernel)",
   "language": "python",
   "name": "python3"
  },
  "language_info": {
   "codemirror_mode": {
    "name": "ipython",
    "version": 3
   },
   "file_extension": ".py",
   "mimetype": "text/x-python",
   "name": "python",
   "nbconvert_exporter": "python",
   "pygments_lexer": "ipython3",
   "version": "3.11.4"
  }
 },
 "nbformat": 4,
 "nbformat_minor": 5
}
